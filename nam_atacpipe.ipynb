{
 "cells": [
  {
   "cell_type": "code",
   "execution_count": null,
   "metadata": {
    "vscode": {
     "languageId": "shellscript"
    }
   },
   "outputs": [],
   "source": [
    "#在/Data/Ref下创建nam亲本各自的目录，完善内容\n",
    "#!/bin/bash\n",
    "cd /data14/yjiang22/qukunlab_atac_pipe/ATAC-pipe-master/Data/Ref\n",
    "source activate atac-pipe\n",
    "##cml52\n",
    "mkdir cml52 && cd cml52\n",
    "wget https://download.maizegdb.org/Zm-CML52-REFERENCE-NAM-1.0/Zm-CML52-REFERENCE-NAM-1.0.fa.gz\n",
    "wget https://download.maizegdb.org/Zm-CML52-REFERENCE-NAM-1.0/Zm-CML52-REFERENCE-NAM-1.0_Zm00019ab.1.gff3.gz\n",
    "gunzip -c Zm-CML52-REFERENCE-NAM-1.0.fa.gz > Zm-CML52-REFERENCE-NAM-1.0.fa\n",
    "gunzip Zm-CML52-REFERENCE-NAM-1.0_Zm00019ab.1.gff3.gz\n",
    "#创建基因组黑名单\n",
    "touch cml52.blacklist.bed\n",
    "#创建6个bt2文件\n",
    "for i in {1..10}\n",
    "do\n",
    "    samtools faidx Zm-CML52-REFERENCE-NAM-1.0.fa chr$i > chr$i.fa\n",
    "done\n",
    "cat chr1.fa chr2.fa chr3.fa chr4.fa chr5.fa chr6.fa chr7.fa chr8.fa chr9.fa chr10.fa > cml52.fa\n",
    "bowtie2-build cml52.fa cml52\n",
    "#创建sizes文件\n",
    "samtools faidx Zm-CML52-REFERENCE-NAM-1.0.fa\n",
    "cat *fai | head -10 | cut -f 1,2 > cml52.sizes\n",
    "#创建NAME_refseq_genes_TSS.txt (gfftobed是github上down的一个包, -t指提取TSS)\n",
    "/data14/yjiang22/atac_pipe1/genome/gfftobed-main/gfftobed -t Zm-CML52-REFERENCE-NAM-1.0_Zm00019ab.1.gff3 | cut -f 1,2,3 | grep chr > cml52_refseq_genes_TSS.txt\n",
    "#创建4kbwindow_NAMETSS.txt\n",
    "cat cml52_refseq_genes_TSS.txt | awk 'BEGIN{FS=\"\\t\";OFS=\"\\t\"}{print $1,$2-2000,$3+2000}' > 4kbwindow_cml52TSS.txt\n",
    "\n",
    "#为了减少占用空间，删除一些不必保留的文件\n",
    "rm chr*.fa\n",
    "-----------------------------------------------------------------------------------------------------------------------------------------\n",
    "#!/bin/bash\n",
    "#b97\n",
    "cd /data14/yjiang22/qukunlab_atac_pipe/ATAC-pipe-master/Data/Ref\n",
    "source activate atac-pipe\n",
    "mkdir b97 && cd b97\n",
    "wget https://download.maizegdb.org/Zm-B97-REFERENCE-NAM-1.0/Zm-B97-REFERENCE-NAM-1.0.fa.gz\n",
    "wget https://download.maizegdb.org/Zm-B97-REFERENCE-NAM-1.0/Zm-B97-REFERENCE-NAM-1.0_Zm00018ab.1.gff3.gz\n",
    "gunzip -c Zm-B97-REFERENCE-NAM-1.0.fa.gz > Zm-B97-REFERENCE-NAM-1.0.fa\n",
    "gunzip Zm-B97-REFERENCE-NAM-1.0_Zm00018ab.1.gff3.gz\n",
    "#创建基因组黑名单\n",
    "touch b97.blacklist.bed\n",
    "#创建6个bt2文件\n",
    "for i in {1..10}\n",
    "do\n",
    "    samtools faidx Zm-B97-REFERENCE-NAM-1.0.fa chr$i > chr$i.fa\n",
    "done\n",
    "cat chr1.fa chr2.fa chr3.fa chr4.fa chr5.fa chr6.fa chr7.fa chr8.fa chr9.fa chr10.fa > b97.fa\n",
    "bowtie2-build b97.fa b97\n",
    "#创建sizes文件\n",
    "samtools faidx Zm-B97-REFERENCE-NAM-1.0.fa\n",
    "cat *fai | head -10 | cut -f 1,2 > b97.sizes\n",
    "#创建NAME_refseq_genes_TSS.txt (gfftobed是github上down的一个包, -t指提取TSS)\n",
    "/data14/yjiang22/atac_pipe1/genome/gfftobed-main/gfftobed -t Zm-B97-REFERENCE-NAM-1.0_Zm00018ab.1.gff3 | cut -f 1,2,3 | grep chr > b97_refseq_genes_TSS.txt\n",
    "#创建4kbwindow_NAMETSS.txt\n",
    "cat b97_refseq_genes_TSS.txt | awk 'BEGIN{FS=\"\\t\";OFS=\"\\t\"}{print $1,$2-2000,$3+2000}' > 4kbwindow_b97TSS.txt\n",
    "\n",
    "#为了减少占用空间，删除一些不必保留的文件\n",
    "rm Zm-B97-REFERENCE-NAM-1.0.fa\n",
    "rm Zm-B97-REFERENCE-NAM-1.0.fa.fai\n",
    "rm chr*.fa\n",
    "\n",
    "-----------------------------------------------------------------------------------------------------------------------------------------\n",
    "##-----------------------------------------------------------循环 构造Data/Ref---------------------------------------------------------------------##\n",
    "#!/bin/bash\n",
    "source activate atac-pipe\n",
    "cd /data14/yjiang22/qukunlab_atac_pipe/ATAC-pipe-master/Data/Ref\n",
    "cat ../id_genome_gff_http | while read id\n",
    "do\n",
    "arr=($id)\n",
    "id_lower=${arr[0]}\n",
    "id_upper=${arr[1]}\n",
    "genome_http=${arr[2]}\n",
    "gff_http=${arr[3]}\n",
    "#创建各基因组目录并进入\n",
    "mkdir $id_lower && cd $id_lower\n",
    "#下载基因组文件和注释文件\n",
    "wget $genome_http\n",
    "wget $gff_http\n",
    "gunzip -c Zm-${id_upper}-REFERENCE-NAM-1.0.fa.gz > Zm-${id_upper}-REFERENCE-NAM-1.0.fa\n",
    "gunzip *.gff3.gz\n",
    "#创建基因组黑名单\n",
    "touch $id_lower.blacklist.bed\n",
    "#创建6个bt2文件\n",
    "for i in {1..10}\n",
    "do\n",
    "    samtools faidx Zm-${id_upper}-REFERENCE-NAM-1.0.fa chr$i > chr$i.fa\n",
    "done\n",
    "cat chr1.fa chr2.fa chr3.fa chr4.fa chr5.fa chr6.fa chr7.fa chr8.fa chr9.fa chr10.fa > ${id_lower}.fa\n",
    "bowtie2-build $id_lower.fa $id_lower\n",
    "#创建sizes文件\n",
    "samtools faidx Zm-$id_upper-REFERENCE-NAM-1.0.fa\n",
    "cat *fai | head -10 | cut -f 1,2 > $id_lower.sizes\n",
    "#创建NAME_refseq_genes_TSS.txt (gfftobed是github上down的一个包, -t指提取TSS)\n",
    "/data14/yjiang22/atac_pipe1/genome/gfftobed-main/gfftobed -t *.gff3 | cut -f 1,2,3 | grep chr > ${id_lower}_refseq_genes_TSS.txt\n",
    "#创建4kbwindow_NAMETSS.txt\n",
    "cat *TSS.txt | awk 'BEGIN{FS=\"\\t\";OFS=\"\\t\"}{print $1,$2-2000,$3+2000}' > 4kbwindow_${id_lower}TSS.txt\n",
    "\n",
    "#为了减少占用空间，删除一些不必保留的文件\n",
    "rm Zm-${id_upper}-REFERENCE-NAM-1.0.fa\n",
    "rm Zm-${id_upper}-REFERENCE-NAM-1.0.fa.fai\n",
    "rm chr*.fa\n",
    "\n",
    "cd ..\n",
    "done\n",
    "\n",
    "##-----------------------------------------------------------循环 构造Data/Ref---------------------------------------------------------------------##\n",
    "\n",
    "\n",
    "#cml247\n",
    "wget https://download.maizegdb.org/Zm-CML247-REFERENCE-NAM-1.0/Zm-CML247-REFERENCE-NAM-1.0.fa.gz\n",
    "wget https://download.maizegdb.org/Zm-CML247-REFERENCE-NAM-1.0/Zm-CML247-REFERENCE-NAM-1.0_Zm00023ab.1.gff3.gz\n",
    "\n",
    "...\n"
   ]
  },
  {
   "cell_type": "markdown",
   "metadata": {},
   "source": [
    "### 提交并行作业"
   ]
  },
  {
   "cell_type": "markdown",
   "metadata": {},
   "source": [
    "#### SRA转fastq"
   ]
  },
  {
   "cell_type": "code",
   "execution_count": null,
   "metadata": {
    "vscode": {
     "languageId": "shellscript"
    }
   },
   "outputs": [],
   "source": [
    "###-----------------SRA转fastq-----------------###\n",
    "\n",
    "\n",
    "#!/bin/bash\n",
    "#SBATCH -p v6_384\n",
    "#SBATCH -N 1\n",
    "#SBATCH -n 90\n",
    "#SBATCH -o /public1/home/sc80041/yjiang22/nam/sra2fastq.log\n",
    "\n",
    "source activate jy_atac\n",
    "cd /public1/home/sc80041/yjiang22/nam\n",
    "cat ./sra2fastq--.txt | while read id\n",
    "do\n",
    "    arr=($id)\n",
    "    sra_id=${arr[0]}\n",
    "    fastq_id_base=${arr[1]}\n",
    "    #echo $sra_id\n",
    "    /public1/home/sc80041/yjiang22/software/sratoolkit.3.0.0-centos_linux64/bin/fasterq-dump -e 84 --split-3 -O ./fastq/ ./raw_data/$sra_id\n",
    "\n",
    "done\n"
   ]
  },
  {
   "cell_type": "markdown",
   "metadata": {},
   "source": [
    "#### fastq文件批量更名"
   ]
  },
  {
   "cell_type": "code",
   "execution_count": null,
   "metadata": {
    "vscode": {
     "languageId": "shellscript"
    }
   },
   "outputs": [],
   "source": [
    "###-----------------fastq更名-----------------###\n",
    "cat ../config | while read id;do arr=($id);sra_id=${arr[0]};fastq_id_base=${arr[1]};rename ${sra_id} ${fastq_id_base} *;done\n",
    "rename fastq fq *\n",
    "再新建26个文件夹把各自的fq放到相应的文件夹里\n"
   ]
  },
  {
   "cell_type": "markdown",
   "metadata": {},
   "source": [
    "#### 修改atac-pipe_NAM_mt.py"
   ]
  },
  {
   "cell_type": "code",
   "execution_count": null,
   "metadata": {
    "vscode": {
     "languageId": "shellscript"
    }
   },
   "outputs": [],
   "source": [
    "###----------------修改atac-pipe_NAM_mt.py------------------###\n",
    "(base) [yjiang22@localhost Ref]$ ls | while read id;do echo $id;cat ./$id/*.sizes | awk '{sum+=$2} END {print sum}';done\n"
   ]
  },
  {
   "cell_type": "markdown",
   "metadata": {},
   "source": [
    "#### 寻找nam中的pt mt"
   ]
  },
  {
   "cell_type": "code",
   "execution_count": null,
   "metadata": {
    "vscode": {
     "languageId": "shellscript"
    }
   },
   "outputs": [],
   "source": [
    "###--------------------寻找nam中的pt mt----------------------###\n",
    "#策略：将b73 v4的mt pt分别比对到26个nam群体的基因组\n",
    "\n",
    "#!/bin/bash\n",
    "#SBATCH -p v6_384\n",
    "#SBATCH -N 1\n",
    "#SBATCH -n 50\n",
    "#SBATCH -o /public1/home/sc80041/yjiang22/nam/find_nam_mt_pt.log\n",
    "source activate minimap2\n",
    "cd /public1/home/sc80041/yjiang22/software/ATAC-pipe-master/Data/Ref\n",
    "ls | while read id;do minimap2 -ax asm5 -t 20 $id/*NAM*.fa /public1/home/sc80041/yjiang22/nam/b73v4_mt_pt.fa | samtools view -@ 40 -b -o /public1/home/sc80041/yjiang22/nam/find_nam_mt_pt/${id}_where_mt_pt.bam;done\n",
    "cd /public1/home/sc80041/yjiang22/nam/find_nam_mt_pt\n",
    "cat ../nam26_lowercase | while read id;do perl ../get_the_detailed_mapping_information_from_bwa_bam_file.pl ${id}_where_mt_pt.bam 0 > ${id}_where_mt_pt.bam.info;done\n",
    "\n",
    "#总结：由于b73 v4的叶绿体、线粒体比对到多个nam亲本的常染色体上,分离所有nam亲本的叶绿体线粒体较复杂,暂不进行统计\n"
   ]
  },
  {
   "cell_type": "markdown",
   "metadata": {},
   "source": [
    "#### qukunlab_atac_pipe mapping QC"
   ]
  },
  {
   "cell_type": "code",
   "execution_count": null,
   "metadata": {
    "vscode": {
     "languageId": "shellscript"
    }
   },
   "outputs": [],
   "source": [
    "###--------------------qukunlab_atac_pipe mapping QC----------------------###\n",
    "\n",
    "#!/bin/bash\n",
    "#SBATCH -p v6_384\n",
    "#SBATCH -N 1\n",
    "#SBATCH -n 50\n",
    "#SBATCH -o /public1/home/sc80041/yjiang22/nam/log/b97mappQC.log\n",
    "source activate jy_atac\n",
    "python atac-pipe_NAM_mt.py --MappingQC -t 40 -i /public1/home/sc80041/yjiang22/nam/fastq/b97/ -o /public1/home/sc80041/yjiang22/nam/out/ -r b97\n",
    "\n",
    "#!/bin/bash\n",
    "#SBATCH -p v6_384\n",
    "#SBATCH -N 1\n",
    "#SBATCH -n 42\n",
    "#SBATCH -o /public1/home/sc80041/yjiang22/nam/log/b73v5mappQC_1.log\n",
    "source activate jy_atac\n",
    "python atac-pipe_NAM_mt.py --MappingQC -t 40 -i /public1/home/sc80041/yjiang22/nam/fastq/b73v5/fastq1/ -o /public1/home/sc80041/yjiang22/nam/out/ -r b73v5\n",
    "\n",
    "#!/bin/bash\n",
    "#SBATCH -p v6_384\n",
    "#SBATCH -N 1\n",
    "#SBATCH -n 96\n",
    "#SBATCH -o /public1/home/sc80041/yjiang22/nam/log/b73v5mappQC_2.log\n",
    "source activate jy_atac\n",
    "python atac-pipe_NAM_mt.py --MappingQC -t 94 -i /public1/home/sc80041/yjiang22/nam/fastq/b73v5/fastq2/ -o /public1/home/sc80041/yjiang22/nam/out/ -r b73v5\n",
    "\n",
    "#!/bin/bash\n",
    "#SBATCH -p v6_384\n",
    "#SBATCH -N 1\n",
    "#SBATCH -n 96\n",
    "#SBATCH -o /public1/home/sc80041/yjiang22/nam/log/b73v5mappQC_3.log\n",
    "source activate jy_atac\n",
    "python atac-pipe_NAM_mt.py --MappingQC -t 94 -i /public1/home/sc80041/yjiang22/nam/fastq/b73v5/fastq3/ -o /public1/home/sc80041/yjiang22/nam/out/ -r b73v5\n",
    "\n",
    "\n",
    "#######为了节约存储空间，该步完成后把fastq文件gzip压缩\n",
    "#######b73分了三个作业，因为fastq文件过大，跑不动"
   ]
  },
  {
   "cell_type": "markdown",
   "metadata": {},
   "source": [
    "### qukunlab_atac_pipe merge"
   ]
  },
  {
   "cell_type": "code",
   "execution_count": null,
   "metadata": {
    "vscode": {
     "languageId": "shellscript"
    }
   },
   "outputs": [],
   "source": [
    "###--------------------qukunlab_atac_pipe merge----------------------###\n",
    "#!/bin/bash\n",
    "#SBATCH -p v6_384\n",
    "#SBATCH -N 1\n",
    "#SBATCH -n 30\n",
    "#SBATCH -o /public1/home/sc80041/yjiang22/nam/log/nam_merge.log\n",
    "source activate jy_atac\n",
    "\n",
    "cat /public1/home/sc80041/yjiang22/nam/nam26_lowercase | while read id   #change b73v5 to b73\n",
    "do\n",
    "    python atac-pipe_NAM_mt.py \\\n",
    "    --Merge \\\n",
    "    --bam /public1/home/sc80041/yjiang22/nam/out/Mapping/$id/ \\\n",
    "    -r $id \\\n",
    "    -o /public1/home/sc80041/yjiang22/nam/out/ \\\n",
    "    --group /public1/home/sc80041/yjiang22/nam/group/${id}_group\n",
    "done\n",
    "\n"
   ]
  },
  {
   "cell_type": "markdown",
   "metadata": {},
   "source": [
    "#### qukunlab_atac_pipe peakcalling"
   ]
  },
  {
   "cell_type": "code",
   "execution_count": null,
   "metadata": {
    "vscode": {
     "languageId": "shellscript"
    }
   },
   "outputs": [],
   "source": [
    "\n",
    "###--------------------qukunlab_atac_pipe peak calling----------------------###\n",
    "#!/bin/bash\n",
    "#SBATCH -p v6_384\n",
    "#SBATCH -N 1\n",
    "#SBATCH -n 90\n",
    "#SBATCH -o /public1/home/sc80041/yjiang22/nam/log/nam_peakcall.log\n",
    "source activate jy_atac\n",
    "cat /public1/home/sc80041/yjiang22/nam/nam26_lowercase | while read id   #change b73v5 to b73\n",
    "do\n",
    "    python atac-pipe_NAM_mt.py \\\n",
    "    --PeakCalling \\\n",
    "    --bed /public1/home/sc80041/yjiang22/nam/out/Mapping/$id/ \\\n",
    "    -r $id \\\n",
    "    -o /public1/home/sc80041/yjiang22/nam/out/ \\\n",
    "    --group /public1/home/sc80041/yjiang22/nam/group/${id}_group \\\n",
    "    --project $id\n",
    "done"
   ]
  },
  {
   "cell_type": "markdown",
   "metadata": {},
   "source": [
    "#### bedtools getfasta提取peak序列\n",
    "\n",
    "发现：多个某chr上最后一个peak，bed文件坐标超出了染色体坐标，getfasta时报错，需要手动修改！！！！！！"
   ]
  },
  {
   "cell_type": "code",
   "execution_count": null,
   "metadata": {
    "vscode": {
     "languageId": "shellscript"
    }
   },
   "outputs": [],
   "source": [
    "##准备peak坐标的bed文件\n",
    "ls | cut -d \"_\" -f 1|uniq| while read id;do cut -f 1,2,3 ${id}_peaks.narrowPeak > ${id}_peaks.bed;done\n",
    "##将peaks.bed文件超出染色体长度的坐标改为染色体长度\n",
    "如\n",
    "Feature (chr10:150885159-150885482) beyond the length of chr10 size (150885398 bp).  Skipping.\n",
    "##提取peak序列\n",
    "ls | cut -d '_' -f 1 |  while read id;do bedtools getfasta -fi /public1/home/sc80041/yjiang22/software/ATAC-pipe-master/Data/Ref/${id}/*-NAM*.fa -bed ${id}_peaks.bed -fo ${id}_peaks.woparent.fa;done\n",
    "##给每个fa文件header添加亲本名称信息\n",
    "#单个\n",
    "sed 's/>/&b73/' b73_peaks.woparent.fa > b73_peaks.fa\n",
    "#批量\n",
    "ls | cut -d \"_\" -f 1|uniq| while read id;do echo \"sed 's/>/&$id/' ${id}_peaks.woparent.fa > ${id}_peaks.fa\" >> sed_add_fa_header.sh ;done #再运行.sh，sed 's/>/&$id/直接执行把$id当成'$id'了\n",
    "\n"
   ]
  },
  {
   "cell_type": "markdown",
   "metadata": {},
   "source": [
    "#### minimap2比对，迭代构建pan-ocr(只考虑unmapped)"
   ]
  },
  {
   "cell_type": "code",
   "execution_count": null,
   "metadata": {
    "vscode": {
     "languageId": "shellscript"
    }
   },
   "outputs": [],
   "source": [
    "b73 b97 cml52 cml69 cml103 cml228 cml247 cml277 cml322 cml333 hp301 il14h ki3 ki11 ky21 m37w m162w mo18w ms71 nc350 nc358 oh7b oh43 p39 tx303 tzi8\n",
    "\n",
    "##第1次，b97(query)比对到b73(ref)\n",
    "\n",
    "#!/bin/bash\n",
    "#SBATCH -p v6_384\n",
    "#SBATCH -N 1\n",
    "#SBATCH -n 30\n",
    "#SBATCH -o /public1/home/sc80041/yjiang22/nam/pan_ocr_construction/log/minim_b97_b73ref_aln.log\n",
    "source activate /public1/home/sc80041/miniconda3/envs/minimap2\n",
    "cd /public1/home/sc80041/yjiang22/nam/pan_ocr_construction/ocr_iterate/minimap2_trial1\n",
    "minimap2 -t 28 -a b73--ref.fa ../fasta_peaks/b97_peaks.fa | samtools view -b -o b97.minim.bam\n",
    "#samtools sort -@ 28 -n b97.minim.bam -o b97.minim.sortbyread.bam  #-n sort by read name\n",
    "#perl /public1/home/sc80041/yjiang22/nam/get_the_detailed_mapping_information_from_bwa_bam_file.pl b97-b73.minim.sortbyread.bam 0 > b97-b73.minim.sortbyread.bam.info  ###query name那块被修改了\n",
    "#samtools view b97-b73.minim.sortbyread.bam |awk '$2==4 {print $1}' > b97-b73.minim.unmapped\n",
    "samtools view b97.minim.bam | awk '$2==4 {print $1}' > b97.minim.unmapped\n",
    "#构造用来提取unmapped reads序列的bed文件\n",
    "awk -F \":|-\" '{print $1,$2,$3}' OFS=\"\\t\" b97.minim.unmapped > b97.minim.unmapped.bedinterm\n",
    "sed 's/b97//' b97.minim.unmapped.bedinterm > b97.minim.unmapped.bed\n",
    "#提取unmapped reads序列 给fa文件header加亲本信息\n",
    "bedtools getfasta -fi /public1/home/sc80041/yjiang22/software/ATAC-pipe-master/Data/Ref/b97/Zm-B97-REFERENCE-NAM-1.0.fa -bed b97.minim.unmapped.bed -fo b97.minim.unmapped.woparent.fa\n",
    "sed 's/>/&b97/' b97.minim.unmapped.woparent.fa > b97.minim.unmapped.fa\n",
    "cat b97.minim.unmapped.fa b73--ref.fa > b97--ref.fa\n",
    "\n",
    "\n",
    "#########-----------循环minimap2-iterate.sh------------##########\n",
    "#!/bin/bash\n",
    "#SBATCH -p v6_384\n",
    "#SBATCH -N 1\n",
    "#SBATCH -n 30\n",
    "#SBATCH -o /public1/home/sc80041/yjiang22/nam/pan_ocr_construction/log/minim_iterate_26nam.log\n",
    "source activate /public1/home/sc80041/miniconda3/envs/minimap2\n",
    "cd /public1/home/sc80041/yjiang22/nam/pan_ocr_construction/ocr_iterate/minimap2_trial1\n",
    "cat ../iterate-config-ref-query--.txt | while read id\n",
    "do\n",
    "    arr=($id)\n",
    "    ref=${arr[0]}\n",
    "    query=${arr[1]}\n",
    "    minimap2 -t 28 -a ${ref}--ref.fa ../fasta_peaks/${query}_peaks.fa | samtools view -b -o ${query}.minim.bam\n",
    "    samtools view ${query}.minim.bam | awk '$2==4 {print $1}' > ${query}.minim.unmapped\n",
    "    awk -F \":|-\" '{print $1,$2,$3}' OFS=\"\\t\" ${query}.minim.unmapped > ${query}.minim.unmapped.bedinterm\n",
    "    bash ./sed_bedinterm2bed.sh\n",
    "    bedtools getfasta -fi /public1/home/sc80041/yjiang22/software/ATAC-pipe-master/Data/Ref/${query}/*-REFERENCE-NAM*.fa -bed ${query}.minim.unmapped.bed -fo ${query}.minim.unmapped.woparent.fa\n",
    "    bash ./sed_add_fa_parent.sh\n",
    "    cat ${query}.minim.unmapped.fa ${ref}--ref.fa > ${query}--ref.fa\n",
    "done\n",
    "#########-----------循环minimap2-iterate.sh------------##########\n",
    "\n",
    "\n",
    "#########-----------循环minimap2-iterate2.sh------------##########\n",
    "#!/bin/bash\n",
    "#SBATCH -p v6_384\n",
    "#SBATCH -N 1\n",
    "#SBATCH -n 30\n",
    "#SBATCH -o /public1/home/sc80041/yjiang22/nam/pan_ocr_construction/log/minim_iterate_26nam_2.log\n",
    "source activate /public1/home/sc80041/miniconda3/envs/minimap2\n",
    "cd /public1/home/sc80041/yjiang22/nam/pan_ocr_construction/ocr_iterate/minimap2_trial2\n",
    "cat ../iterate-config-ref-query--2.txt | while read id\n",
    "do\n",
    "    arr=($id)\n",
    "    ref=${arr[0]}\n",
    "    query=${arr[1]}\n",
    "    minimap2 -t 28 -a ${ref}--ref.fa ../fasta_peaks/${query}_peaks.fa | samtools view -b -o ${query}.minim.bam\n",
    "    samtools view ${query}.minim.bam | awk '$2==4 {print $1}' > ${query}.minim.unmapped\n",
    "    awk -F \":|-\" '{print $1,$2,$3}' OFS=\"\\t\" ${query}.minim.unmapped > ${query}.minim.unmapped.bedinterm\n",
    "    bash ./sed_bedinterm2bed2.sh\n",
    "    bedtools getfasta -fi /public1/home/sc80041/yjiang22/software/ATAC-pipe-master/Data/Ref/${query}/*-REFERENCE-NAM*.fa -bed ${query}.minim.unmapped.bed -fo ${query}.minim.unmapped.woparent.fa\n",
    "    bash ./sed_add_fa_parent2.sh\n",
    "    cat ${query}.minim.unmapped.fa ${ref}--ref.fa > ${query}--ref.fa\n",
    "done\n",
    "#########-----------循环minimap2-iterate2.sh------------##########\n",
    "\n",
    "#########-----------循环minimap2-iterate3.sh------------##########\n",
    "#!/bin/bash\n",
    "#SBATCH -p v6_384\n",
    "#SBATCH -N 1\n",
    "#SBATCH -n 30\n",
    "#SBATCH -o /public1/home/sc80041/yjiang22/nam/pan_ocr_construction/log/minim_iterate_26nam_3.log\n",
    "source activate /public1/home/sc80041/miniconda3/envs/minimap2\n",
    "cd /public1/home/sc80041/yjiang22/nam/pan_ocr_construction/ocr_iterate/minimap2_trial3\n",
    "cat ../iterate-config-ref-query--3.txt | while read id\n",
    "do\n",
    "    arr=($id)\n",
    "    ref=${arr[0]}\n",
    "    query=${arr[1]}\n",
    "    minimap2 -t 28 -a ${ref}--ref.fa ../fasta_peaks/${query}_peaks.fa | samtools view -b -o ${query}.minim.bam\n",
    "    samtools view ${query}.minim.bam | awk '$2==4 {print $1}' > ${query}.minim.unmapped\n",
    "    awk -F \":|-\" '{print $1,$2,$3}' OFS=\"\\t\" ${query}.minim.unmapped > ${query}.minim.unmapped.bedinterm\n",
    "    bash ./sed_bedinterm2bed3.sh\n",
    "    bedtools getfasta -fi /public1/home/sc80041/yjiang22/software/ATAC-pipe-master/Data/Ref/${query}/*-REFERENCE-NAM*.fa -bed ${query}.minim.unmapped.bed -fo ${query}.minim.unmapped.woparent.fa\n",
    "    bash ./sed_add_fa_parent3.sh\n",
    "    cat ${query}.minim.unmapped.fa ${ref}--ref.fa > ${query}--ref.fa\n",
    "done\n",
    "#########-----------循环minimap2-iterate3.sh------------##########\n",
    "\n",
    "105567 b73_peaks.bed\n",
    "21980 oh43.minim.unmapped    127547\n",
    "5931 ky21.minim.unmapped     133478\n",
    "4152 ki3.minim.unmapped      137630\n",
    "3259 m162w.minim.unmapped    140889\n",
    "2526 nc350.minim.unmapped    143415\n",
    "2094 oh7b.minim.unmapped     145509\n",
    "2425 b97.minim.unmapped      147934\n",
    "2110 il14h.minim.unmapped    150044\n",
    "1840 tx303.minim.unmapped    151884\n",
    "1547 m37w.minim.unmapped     153431\n",
    "1549 hp301.minim.unmapped    154980\n",
    "1452 cml69.minim.unmapped    156432\n",
    "1399 cml277.minim.unmapped   157831\n",
    "1442 ms71.minim.unmapped     159273\n",
    "1518 cml333.minim.unmapped   160791\n",
    "1456 cml247.minim.unmapped   162247\n",
    "1425 p39.minim.unmapped      163672\n",
    "1388 tzi8.minim.unmapped     165060\n",
    "1176 nc358.minim.unmapped    166236\n",
    "1404 cml52.minim.unmapped    167640\n",
    "958 cml322.minim.unmapped    168598\n",
    "883 ki11.minim.unmapped      169481\n",
    "1155 cml103.minim.unmapped   170636\n",
    "985 mo18w.minim.unmapped     171621\n",
    "1366 cml228.minim.unmapped   172987\n",
    "\n",
    "#panocr共172987条"
   ]
  },
  {
   "cell_type": "markdown",
   "metadata": {},
   "source": [
    "#### blast+比对，迭代构建pan-ocr(只考虑Unmapped)"
   ]
  },
  {
   "cell_type": "code",
   "execution_count": null,
   "metadata": {
    "vscode": {
     "languageId": "shellscript"
    }
   },
   "outputs": [],
   "source": [
    "#先创建yjiang22环境，conda安装ncbi-blast+\n",
    "source activate yjiang22\n",
    "makeblastdb -in b73--ref.fa -dbtype nucl -out b73--ref -parse_seqids\n",
    "blastn -db b73--ref -query ../../fasta_peaks/b97_peaks.fa -outfmt 6 -out ../b97.blast -num_threads 20\n",
    "cut -f 1 ../b97.blast | sort  | uniq > ../b97.blast.mapped\n",
    "#总-mapped得到umapped  a.txt-b.txt差集  sort a.txt b.txt b.txt | uniq -u\n",
    "grep '>' ../../fasta_peaks/b97_peaks.fa | sed 's/>//' > ../b97_peaks_all\n",
    "sort ../b97_peaks_all ../b97.blast.mapped ../b97.blast.mapped | uniq -u > ../b97.blast.unmapped\n",
    "#构造用来提取unmapped reads序列的bed文件\n",
    "awk -F \":|-\" '{print $1,$2,$3}' OFS=\"\\t\" ../b97.blast.unmapped > ../b97.blast.unmapped.bedinterm\n",
    "sed 's/b97//' ../b97.blast.unmapped.bedinterm > ../b97.blast.unmapped.bed\n",
    "#提取unmapped reads序列 给fa文件header加亲本信息\n",
    "bedtools getfasta -fi /public1/home/sc80041/yjiang22/software/ATAC-pipe-master/Data/Ref/b97/Zm-B97-REFERENCE-NAM-1.0.fa -bed ../b97.blast.unmapped.bed -fo b97.blast.unmapped.woparent.fa\n",
    "sed 's/>/&b97/' b97.blast.unmapped.woparent.fa > b97.blast.unmapped.fa\n",
    "#加到ref的fa里面继续下一轮比对\n",
    "cat b97.blast.unmapped.fa b73--ref.fa > b97--ref.fa\n",
    "\n",
    "\n",
    "###---------------------------循环 blast_iterate.sh------------------------###\n",
    "#!/bin/bash\n",
    "#SBATCH -p v6_384\n",
    "#SBATCH -N 1\n",
    "#SBATCH -n 22\n",
    "#SBATCH -o /public1/home/sc80041/yjiang22/nam/pan_ocr_construction/log/blast_iterate_26nam_1.log\n",
    "source activate yjiang22\n",
    "cd /public1/home/sc80041/yjiang22/nam/pan_ocr_construction/ocr_iterate/blast_trial1/fa_and_index1\n",
    "cat ../../iterate-config-ref-query--.txt | while read id\n",
    "do\n",
    "    arr=($id)\n",
    "    ref=${arr[0]}\n",
    "    query=${arr[1]}\n",
    "    makeblastdb -in ${ref}--ref.fa -dbtype nucl -out ${ref}--ref -parse_seqids\n",
    "    blastn -db ${ref}--ref -query ../../fasta_peaks/${query}_peaks.fa -outfmt 6 -out ../${query}.blast -num_threads 20\n",
    "    cut -f 1 ../${query}.blast | sort  | uniq > ../${query}.blast.mapped\n",
    "    grep '>' ../../fasta_peaks/${query}_peaks.fa | sed 's/>//' > ../${query}_peaks_all\n",
    "    sort ../${query}_peaks_all ../${query}.blast.mapped ../${query}.blast.mapped | uniq -u > ../${query}.blast.unmapped\n",
    "    awk -F \":|-\" '{print $1,$2,$3}' OFS=\"\\t\" ../${query}.blast.unmapped > ../${query}.blast.unmapped.bedinterm\n",
    "    bash ./sed_bedinterm2bed.sh\n",
    "    bedtools getfasta -fi /public1/home/sc80041/yjiang22/software/ATAC-pipe-master/Data/Ref/${query}/*-REFERENCE-NAM-*.fa -bed ../${query}.blast.unmapped.bed -fo ${query}.blast.unmapped.woparent.fa\n",
    "    bash ./sed_add_fa_parent.sh\n",
    "    cat ${query}.blast.unmapped.fa ${ref}--ref.fa > ${query}--ref.fa\n",
    "done\n",
    "###---------------------------循环 blast_iterate.sh------------------------###\n",
    "\n",
    "#panocr共166543条\n",
    "\n",
    "###---------------------------循环 blast_iterate2.sh------------------------###\n",
    "#!/bin/bash\n",
    "#SBATCH -p v6_384\n",
    "#SBATCH -N 1\n",
    "#SBATCH -n 22\n",
    "#SBATCH -o /public1/home/sc80041/yjiang22/nam/pan_ocr_construction/log/blast_iterate_26nam_2.log\n",
    "source activate yjiang22\n",
    "cd /public1/home/sc80041/yjiang22/nam/pan_ocr_construction/ocr_iterate/blast_trial2/fa_and_index2\n",
    "cat ../../iterate-config-ref-query--2.txt | while read id\n",
    "do\n",
    "    arr=($id)\n",
    "    ref=${arr[0]}\n",
    "    query=${arr[1]}\n",
    "    makeblastdb -in ${ref}--ref.fa -dbtype nucl -out ${ref}--ref -parse_seqids\n",
    "    blastn -db ${ref}--ref -query ../../fasta_peaks/${query}_peaks.fa -outfmt 6 -out ../${query}.blast -num_threads 20\n",
    "    cut -f 1 ../${query}.blast | sort  | uniq > ../${query}.blast.mapped\n",
    "    grep '>' ../../fasta_peaks/${query}_peaks.fa | sed 's/>//' > ../${query}_peaks_all\n",
    "    sort ../${query}_peaks_all ../${query}.blast.mapped ../${query}.blast.mapped | uniq -u > ../${query}.blast.unmapped\n",
    "    awk -F \":|-\" '{print $1,$2,$3}' OFS=\"\\t\" ../${query}.blast.unmapped > ../${query}.blast.unmapped.bedinterm\n",
    "    bash ./sed_bedinterm2bed_2.sh\n",
    "    bedtools getfasta -fi /public1/home/sc80041/yjiang22/software/ATAC-pipe-master/Data/Ref/${query}/*-REFERENCE-NAM-*.fa -bed ../${query}.blast.unmapped.bed -fo ${query}.blast.unmapped.woparent.fa\n",
    "    bash ./sed_add_fa_parent_2.sh\n",
    "    cat ${query}.blast.unmapped.fa ${ref}--ref.fa > ${query}--ref.fa\n",
    "done\n",
    "###---------------------------循环 blast_iterate2.sh------------------------###\n",
    "\n",
    "\n",
    "\n",
    "###---------------------------循环 blast_iterate3.sh------------------------###\n",
    "#!/bin/bash\n",
    "#SBATCH -p v6_384\n",
    "#SBATCH -N 1\n",
    "#SBATCH -n 22\n",
    "#SBATCH -o /public1/home/sc80041/yjiang22/nam/pan_ocr_construction/log/blast_iterate_26nam_3.log\n",
    "source activate yjiang22\n",
    "cd /public1/home/sc80041/yjiang22/nam/pan_ocr_construction/ocr_iterate/blast_trial3/fa_and_index3\n",
    "cat ../../iterate-config-ref-query--3.txt | while read id\n",
    "do\n",
    "    arr=($id)\n",
    "    ref=${arr[0]}\n",
    "    query=${arr[1]}\n",
    "    makeblastdb -in ${ref}--ref.fa -dbtype nucl -out ${ref}--ref -parse_seqids\n",
    "    blastn -db ${ref}--ref -query ../../fasta_peaks/${query}_peaks.fa -outfmt 6 -out ../${query}.blast -num_threads 20\n",
    "    cut -f 1 ../${query}.blast | sort  | uniq > ../${query}.blast.mapped\n",
    "    grep '>' ../../fasta_peaks/${query}_peaks.fa | sed 's/>//' > ../${query}_peaks_all\n",
    "    sort ../${query}_peaks_all ../${query}.blast.mapped ../${query}.blast.mapped | uniq -u > ../${query}.blast.unmapped\n",
    "    awk -F \":|-\" '{print $1,$2,$3}' OFS=\"\\t\" ../${query}.blast.unmapped > ../${query}.blast.unmapped.bedinterm\n",
    "    bash ./sed_bedinterm2bed_3.sh\n",
    "    bedtools getfasta -fi /public1/home/sc80041/yjiang22/software/ATAC-pipe-master/Data/Ref/${query}/*-REFERENCE-NAM-*.fa -bed ../${query}.blast.unmapped.bed -fo ${query}.blast.unmapped.woparent.fa\n",
    "    bash ./sed_add_fa_parent_3.sh\n",
    "    cat ${query}.blast.unmapped.fa ${ref}--ref.fa > ${query}--ref.fa\n",
    "done\n",
    "###---------------------------循环 blast_iterate3.sh------------------------###\n"
   ]
  },
  {
   "cell_type": "markdown",
   "metadata": {},
   "source": [
    "#### bwa-mem比对，迭代构建pan-ocr(只考虑unmapped)"
   ]
  },
  {
   "cell_type": "code",
   "execution_count": null,
   "metadata": {
    "vscode": {
     "languageId": "shellscript"
    }
   },
   "outputs": [],
   "source": [
    "\n",
    "source activate bwa\n",
    "cd\n",
    "#建立索引\n",
    "bwa index b73_peaks.fa -p b73--ref\n",
    "#bwa mem比对\n",
    "bwa mem b73--ref b97_peaks.fa > b97.bwa.sam\n",
    "#提取unmmaped的query seq\n",
    "grep -v @ b97.bwa.sam | awk '$2==4 {print$1}'> b97.bwa.unmapped\n",
    "#构造用来提取unmapped reads序列的bed文件\n",
    "awk -F \":|-\" '{print $1,$2,$3}' OFS=\"\\t\" b97.bwa.unmapped > b97.bwa.unmapped.bedinterm\n",
    "sed 's/b97//' b97.bwa.unmapped.bedinterm > b97.bwa.unmapped.bed\n",
    "#提取unmapped reads序列 给fa文件header加亲本信息\n",
    "bedtools getfasta -fi /public1/home/sc80041/yjiang22/software/ATAC-pipe-master/Data/Ref/b97/Zm-B97-REFERENCE-NAM-1.0.fa -bed b97.bwa.unmapped.bed -fo b97.bwa.unmapped.woparent.fa\n",
    "sed 's/>/&b97/' b97.bwa.unmapped.woparent.fa > b97.bwa.unmapped.fa\n",
    "#加到ref的fa里面继续下一轮比对\n",
    "cat b97.bwa.unmapped.fa ../fasta_peaks/b73_peaks.fa > b97--ref.fa\n",
    "\n",
    "bwa index b97--ref.fa -p b97--ref\n",
    "bwa mem b97--ref ../../fasta_peaks/cml52_peaks.fa > ../cml52.bwa.sam\n",
    "grep -v @ cml52.bwa.sam | awk '$2==4 {print$1}' > cml52.bwa.unmapped\n",
    "awk -F \":|-\" '{print $1,$2,$3}' OFS=\"\\t\" cml52.bwa.unmapped > cml52.bwa.unmapped.bedinterm\n",
    "sed 's/cml52//' cml52.bwa.unmapped.bedinterm > cml52.bwa.unmapped.bed\n",
    "bedtools getfasta -fi /public1/home/sc80041/yjiang22/software/ATAC-pipe-master/Data/Ref/cml52/Zm-CML52-REFERENCE-NAM-1.0.fa -bed cml52.bwa.unmapped.bed -fo ./fa_and_index/cml52.bwa.unmapped.woparent.fa\n",
    "sed 's/>/&cml52/' ./fa_and_index/cml52.bwa.unmapped.woparent.fa > ./fa_and_index/cml52.bwa.unmapped.fa\n",
    "cat ./fa_and_index/cml52.bwa.unmapped.fa ./fa_and_index/b97--ref.fa > ./fa_and_index/cml52--ref.fa\n",
    "\n",
    "\n",
    "--\n",
    "#windows下excel创造的config.txt每行末有\\r，需要先去除\n",
    "cat ../../panocr-iterate-config.txt |tr '\\r' ' ' > ../../iterate-config-ref-query--.txt\n",
    "rm ../../panocr-iterate-config.txt\n",
    "\n",
    "###---------------------------循环 bwa_iterate.sh------------------------###\n",
    "#!/bin/bash\n",
    "#SBATCH -p v6_384\n",
    "#SBATCH -N 1\n",
    "#SBATCH -n 20\n",
    "#SBATCH -o /public1/home/sc80041/yjiang22/nam/pan_ocr_construction/log/bwamem_iterate_26nam.log\n",
    "source activate bwa\n",
    "cd /public1/home/sc80041/yjiang22/nam/pan_ocr_construction/ocr_iterate/bwa_trial1/fa_and_index\n",
    "cat ../../iterate-config-ref-query--.txt | while read id\n",
    "do\n",
    "    arr=($id)\n",
    "    ref=${arr[0]}\n",
    "    query=${arr[1]}\n",
    "    bwa index ${ref}--ref.fa -p ${ref}--ref\n",
    "    bwa mem ${ref}--ref ../../fasta_peaks/${query}_peaks.fa > ../${query}.bwa.sam\n",
    "    grep -v @ ../${query}.bwa.sam | awk '$2==4 {print$1}' > ../${query}.bwa.unmapped\n",
    "    awk -F \":|-\" '{print $1,$2,$3}' OFS=\"\\t\" ../${query}.bwa.unmapped > ../${query}.bwa.unmapped.bedinterm\n",
    "    bash ./sed_bedinterm2bed.sh\n",
    "    bedtools getfasta -fi /public1/home/sc80041/yjiang22/software/ATAC-pipe-master/Data/Ref/${query}/*-REFERENCE-NAM-*.fa -bed ../${query}.bwa.unmapped.bed -fo ${query}.bwa.unmapped.woparent.fa\n",
    "    bash ./sed_add_fa_parent.sh\n",
    "    cat ${query}.bwa.unmapped.fa ${ref}--ref.fa > ${query}--ref.fa\n",
    "done\n",
    "###---------------------------循环 bwa_iterate.sh------------------------###\n",
    "\n",
    "\n",
    "##-----------sed_bedinterm2bed.sh 目的：b97chr1 374056  374257  →  chr1 374056  374257--------###\n",
    "#!/bin/bash\n",
    "sed 's/b97//' ../b97.bwa.unmapped.bedinterm > ../b97.bwa.unmapped.bed\n",
    "sed 's/cml52//' ../cml52.bwa.unmapped.bedinterm > ../cml52.bwa.unmapped.bed\n",
    "...\n",
    "\n",
    "###-----------sed_add_fa_parent.sh 目的：>chr1:374056-374257  →  >b97chr1:374056-374257-------###\n",
    "#!/bin/bash\n",
    "sed 's/>/&b97/' b97.bwa.unmapped.woparent.fa > b97.bwa.unmapped.fa\n",
    "sed 's/>/&cml52/' cml52.bwa.unmapped.woparent.fa > cml52.bwa.unmapped.fa\n",
    "...\n",
    "\n",
    "\n",
    "\n",
    "###---------------------------循环 bwa_iterate2.sh------------------------###\n",
    "#!/bin/bash\n",
    "#SBATCH -p v6_384\n",
    "#SBATCH -N 1\n",
    "#SBATCH -n 20\n",
    "#SBATCH -o /public1/home/sc80041/yjiang22/nam/pan_ocr_construction/log/bwamem_iterate_26nam_2.log\n",
    "source activate bwa\n",
    "cd /public1/home/sc80041/yjiang22/nam/pan_ocr_construction/ocr_iterate/bwa_trial2/fa_and_index2\n",
    "cat ../../iterate-config-ref-query--2.txt | while read id\n",
    "do\n",
    "    arr=($id)\n",
    "    ref=${arr[0]}\n",
    "    query=${arr[1]}\n",
    "    bwa index ${ref}--ref.fa -p ${ref}--ref\n",
    "    bwa mem ${ref}--ref ../../fasta_peaks/${query}_peaks.fa > ../${query}.bwa.sam\n",
    "    grep -v @ ../${query}.bwa.sam | awk '$2==4 {print$1}' > ../${query}.bwa.unmapped\n",
    "    awk -F \":|-\" '{print $1,$2,$3}' OFS=\"\\t\" ../${query}.bwa.unmapped > ../${query}.bwa.unmapped.bedinterm\n",
    "    bash ./sed_bedinterm2bed2.sh\n",
    "    bedtools getfasta -fi /public1/home/sc80041/yjiang22/software/ATAC-pipe-master/Data/Ref/${query}/*-REFERENCE-NAM-*.fa -bed ../${query}.bwa.unmapped.bed -fo ${query}.bwa.unmapped.woparent.fa\n",
    "    bash ./sed_add_fa_parent2.sh\n",
    "    cat ${query}.bwa.unmapped.fa ${ref}--ref.fa > ${query}--ref.fa\n",
    "done\n",
    "###---------------------------循环 bwa_iterate2.sh------------------------###\n",
    "\n",
    "\n",
    "###---------------------------循环 bwa_iterate3.sh------------顺序是peak数目由大到小------------###\n",
    "#!/bin/bash\n",
    "#SBATCH -p v6_384\n",
    "#SBATCH -N 1\n",
    "#SBATCH -n 20\n",
    "#SBATCH -o /public1/home/sc80041/yjiang22/nam/pan_ocr_construction/log/bwamem_iterate_26nam_3.log\n",
    "source activate bwa\n",
    "cd /public1/home/sc80041/yjiang22/nam/pan_ocr_construction/ocr_iterate/bwa_trial3/fa_and_index3\n",
    "cat ../../iterate-config-ref-query--3.txt | while read id\n",
    "do\n",
    "    arr=($id)\n",
    "    ref=${arr[0]}\n",
    "    query=${arr[1]}\n",
    "    bwa index ${ref}--ref.fa -p ${ref}--ref\n",
    "    bwa mem ${ref}--ref ../../fasta_peaks/${query}_peaks.fa > ../${query}.bwa.sam\n",
    "    grep -v @ ../${query}.bwa.sam | awk '$2==4 {print$1}' > ../${query}.bwa.unmapped\n",
    "    awk -F \":|-\" '{print $1,$2,$3}' OFS=\"\\t\" ../${query}.bwa.unmapped > ../${query}.bwa.unmapped.bedinterm\n",
    "    bash ./sed_bedinterm2bed3.sh\n",
    "    bedtools getfasta -fi /public1/home/sc80041/yjiang22/software/ATAC-pipe-master/Data/Ref/${query}/*-REFERENCE-NAM-*.fa -bed ../${query}.bwa.unmapped.bed -fo ${query}.bwa.unmapped.woparent.fa\n",
    "    bash ./sed_add_fa_parent3.sh\n",
    "    cat ${query}.bwa.unmapped.fa ${ref}--ref.fa > ${query}--ref.fa\n",
    "done\n",
    "###---------------------------循环 bwa_iterate3.sh------------顺序是peak数目由大到小-------------###\n",
    "\n"
   ]
  },
  {
   "cell_type": "markdown",
   "metadata": {},
   "source": [
    "#### 比较总结三种比对方法"
   ]
  },
  {
   "cell_type": "code",
   "execution_count": null,
   "metadata": {
    "vscode": {
     "languageId": "shellscript"
    }
   },
   "outputs": [],
   "source": [
    "#计算panocr长度\n",
    "awk -F \":|-\" '{print $3-$2+1}' panocr_blast_iterate1 > panocr_length\n",
    "awk '{sum += $1};END {print sum}' panocr_length\n",
    "#将三种比对方法iterate1 2 3构建的panocr分别paste在一起\n",
    "paste panocr_blast_iterate1 panocr_bwa_iterate1 panocr_minim_iterate1 > blast_bwa_minim_panocr1\n",
    "paste panocr_blast_iterate2 panocr_bwa_iterate2 panocr_minim_iterate2 > blast_bwa_minim_panocr2\n",
    "paste panocr_blast_iterate3 panocr_bwa_iterate3 panocr_minim_iterate3 > blast_bwa_minim_panocr3\n",
    "#给绘制韦恩图文件加列名\n",
    "sed \"1i blast\\tbwa\\tminimap2\" blast_bwa_minim_panocr3 > blast_bwa_minim_panocr3_1\n",
    "#再用R包venn.diagram绘制\n",
    "\n",
    "\n",
    "###最终决定使用minimap2(用新不用旧），迭代3（peak数由大到小）"
   ]
  },
  {
   "cell_type": "markdown",
   "metadata": {},
   "source": [
    "### minimap2迭代构建，不只考虑unmapped，还有coverage或identity小于90%的"
   ]
  },
  {
   "cell_type": "markdown",
   "metadata": {},
   "source": [
    "#### coverage identity综合分析脚本"
   ]
  },
  {
   "cell_type": "code",
   "execution_count": null,
   "metadata": {
    "vscode": {
     "languageId": "shellscript"
    }
   },
   "outputs": [],
   "source": [
    "perl ../../../get_the_detailed_mapping_information_from_bwa_bam_jymodified.pl ./bam/b97.minim.bam 1 > b97.bam.detail  ##质量值设置的是1\n",
    "#发现flag=256或272的比对质量都是0\n",
    "\n",
    "python ./script_calculate_cov_ide/calculate_bam_detail_coverage_identity.py\n",
    "\n",
    "\n",
    "#########-----------循环minimap2-iterate3-not-only-unmapped.sh------------##########\n",
    "#!/bin/bash\n",
    "#SBATCH -p v6_384\n",
    "#SBATCH -N 1\n",
    "#SBATCH -n 50\n",
    "#SBATCH -o /public1/home/sc80041/yjiang22/nam/pan_ocr_construction/log/not_only_unmapped_iterate3.log\n",
    "source activate /public1/home/sc80041/miniconda3/envs/minimap2\n",
    "cd /public1/home/sc80041/yjiang22/nam/pan_ocr_construction/ocr_iterate/not_only_unmapped\n",
    "cat ../iterate-config-ref-query--3.txt | while read id\n",
    "do\n",
    "    arr=($id)\n",
    "    ref=${arr[0]}\n",
    "    query=${arr[1]}\n",
    "    minimap2 -t 48 -a ./ref--fa/${ref}--ref.fa ../fasta_peaks/${query}_peaks.fa | samtools view -b -o ./bam/${query}.minim.bam\n",
    "    samtools view ./bam/${query}.minim.bam | awk '$2==4 {print $1}' > ./unmapped/${query}.minim.unmapped\n",
    "    awk -F \":|-\" '{print $1,$2,$3}' OFS=\"\\t\" ./unmapped/${query}.minim.unmapped > ./unmapped/${query}.minim.unmapped.bedinterm\n",
    "    bash ./sed_bedinterm2bed3_1.sh\n",
    "    bedtools getfasta -fi /public1/home/sc80041/yjiang22/software/ATAC-pipe-master/Data/Ref/${query}/*-REFERENCE-NAM*.fa -bed ./unmapped/${query}.minim.unmapped.bed -fo ./unmapped/${query}.minim.unmapped.woparent.fa\n",
    "    bash ./sed_add_fa_parent3_1.sh\n",
    "    perl ../../../get_the_detailed_mapping_information_from_minimap2_bam_jymodified.pl ./bam/${query}.minim.bam 10 > ./bam/${query}.q10.minim.bam.detail\n",
    "    python ./calculate_bam_detail_coverage_and_identity.py ${query}\n",
    "    grep True ./calculate_out/${query}.cov_and_ide.lessthan90.csv | awk -F ',' '{print $1}' > ./calculate_out/${query}.cov_and_ide.lessthan90.id\n",
    "    awk -F \":|-\" '{print $1,$2,$3}' OFS=\"\\t\" ./calculate_out/${query}.cov_and_ide.lessthan90.id > ./calculate_out/${query}.cov_and_ide.lessthan90.bedinterm\n",
    "    bash ./sed_bedinterm2bed3_2.sh\n",
    "    bedtools getfasta -fi /public1/home/sc80041/yjiang22/software/ATAC-pipe-master/Data/Ref/${query}/*-REFERENCE-NAM*.fa -bed ./calculate_out/${query}.cov_and_ide.lessthan90.bed -fo ./calculate_out/${query}.cov_and_ide.lessthan90.woparent.fa\n",
    "    bash ./sed_add_fa_parent3_2.sh\n",
    "    cat ./unmapped/${query}.minim.unmapped.fa ./calculate_out/${query}.cov_and_ide.lessthan90.fa ./ref--fa/${ref}--ref.fa > ./ref--fa/${query}--ref.fa\n",
    "done\n",
    "#########-----------循环minimap2-iterate3-not-only-unmapped.sh------------##########"
   ]
  },
  {
   "cell_type": "markdown",
   "metadata": {},
   "source": [
    "### CD-Hit-est聚类"
   ]
  },
  {
   "cell_type": "code",
   "execution_count": null,
   "metadata": {
    "vscode": {
     "languageId": "shellscript"
    }
   },
   "outputs": [],
   "source": [
    "source activate jy_atac\n",
    "conda install -c bioconda cd-hit -y\n",
    "cat *_peaks.fa > allnam26peaks.fa\n",
    "\n",
    "\n",
    "26个nam亲本所有peaks cat到一起做cluster\n",
    "\n",
    "#!/bin/bash\n",
    "#SBATCH -p v6_384\n",
    "#SBATCH -N 1\n",
    "#SBATCH -n 41\n",
    "#SBATCH -o /public1/home/sc80041/yjiang22/nam/pan_ocr_construction/log/cd-hit-cluster.log\n",
    "source activate jy_atac\n",
    "cd-hit-est -i allnam26peaks.fa -o cluster_90 -c 0.9 -n 9 -M 0 -T 40 -d 0 -g 1\n",
    "\n",
    "b73 ref去冗余\n",
    "\n",
    "#!/bin/bash\n",
    "#SBATCH -p v6_384\n",
    "#SBATCH -N 1\n",
    "#SBATCH -n 41\n",
    "#SBATCH -o /public1/home/sc80041/yjiang22/nam/pan_ocr_construction/log/cd-hit-redundancy_elimi.log\n",
    "source activate jy_atac\n",
    "cd-hit-est -i b73_peaks.fa -o redundancy_elimi_b73 -c 0.9 -n 9 -M 0 -T 40 -d 0 -g 1\n",
    "\n",
    "\n",
    "##路径  /public1/home/sc80041/yjiang22/nam/pan_ocr_construction/ocr_iterate/fasta_peaks/cd-hit"
   ]
  },
  {
   "cell_type": "markdown",
   "metadata": {},
   "source": [
    "### 测试部分亲本call出的peak数是否已经饱和"
   ]
  },
  {
   "cell_type": "code",
   "execution_count": null,
   "metadata": {
    "vscode": {
     "languageId": "shellscript"
    }
   },
   "outputs": [],
   "source": [
    "#以cml103为例\n",
    "\n",
    "#!/bin/bash\n",
    "#SBATCH -p v6_384\n",
    "#SBATCH -N 1\n",
    "#SBATCH -n 20\n",
    "#SBATCH -o /public1/home/sc80041/yjiang22/nam/peak_saturation_test/log/cml228_sample.log\n",
    "source activate jy_atac\n",
    "cd /public1/home/sc80041/yjiang22/nam/fastq/\n",
    "ls ./cml228 | while read id\n",
    "do\n",
    "    for i in {1..9}\n",
    "    do \n",
    "        seqtk sample -s100 ./cml228/${id} 0.$i > /public1/home/sc80041/yjiang22/nam/peak_saturation_test/cml228/sample${i}0/${id}\n",
    "    done\n",
    "done\n",
    "\n",
    "###--------------------cml228 sample mapping QC merge peakcalling----------------------###\n",
    "#!/bin/bash\n",
    "#SBATCH -p v6_384\n",
    "#SBATCH -N 1\n",
    "#SBATCH -n 61\n",
    "#SBATCH -o /public1/home/sc80041/yjiang22/nam/peak_saturation_test/log/cml228_sample_atacpipe.log\n",
    "source activate jy_atac\n",
    "cd /public1/home/sc80041/yjiang22/software/ATAC-pipe-master\n",
    "for i in {1..9}\n",
    "do\n",
    "python atac-pipe_NAM_mt.py --MappingQC -t 60 -i /public1/home/sc80041/yjiang22/nam/peak_saturation_test/cml228/sample${i}0/ -o /public1/home/sc80041/yjiang22/nam/peak_saturation_test/cml228/sample${i}0 -r cml228\n",
    "\n",
    "python atac-pipe_NAM_mt.py \\\n",
    "--Merge \\\n",
    "--bam /public1/home/sc80041/yjiang22/nam/peak_saturation_test/cml228/sample${i}0/Mapping \\\n",
    "-r cml228 \\\n",
    "-o /public1/home/sc80041/yjiang22/nam/peak_saturation_test/cml228/sample${i}0 \\\n",
    "--group /public1/home/sc80041/yjiang22/nam/group/cml228_group\n",
    "\n",
    "python atac-pipe_NAM_mt.py \\\n",
    "--PeakCalling \\\n",
    "--bed /public1/home/sc80041/yjiang22/nam/peak_saturation_test/cml228/sample${i}0/Mapping \\\n",
    "-r cml228 \\\n",
    "-o /public1/home/sc80041/yjiang22/nam/peak_saturation_test/cml228/sample${i}0 \\\n",
    "--group /public1/home/sc80041/yjiang22/nam/group/cml228_group \\\n",
    "--project cml228\n",
    "\n",
    "done\n",
    "\n",
    "\n",
    "###################b73 sample########################\n",
    "\n",
    "#!/bin/bash\n",
    "#SBATCH -p v6_384\n",
    "#SBATCH -N 1\n",
    "#SBATCH -n 96\n",
    "#SBATCH -o /public1/home/sc80041/yjiang22/nam/peak_saturation_test/log/b73_sample80_mapping.log\n",
    "source activate jy_atac\n",
    "python atac-pipe_NAM_mt.py --MappingQC -t 95 -i /public1/home/sc80041/yjiang22/nam/peak_saturation_test/b73/sample80_1/ -o /public1/home/sc80041/yjiang22/nam/peak_saturation_test/b73/sample80_1 -r b73\n",
    "python atac-pipe_NAM_mt.py --MappingQC -t 95 -i /public1/home/sc80041/yjiang22/nam/peak_saturation_test/b73/sample80_2/ -o /public1/home/sc80041/yjiang22/nam/peak_saturation_test/b73/sample80_2 -r b73\n",
    "python atac-pipe_NAM_mt.py --MappingQC -t 95 -i /public1/home/sc80041/yjiang22/nam/peak_saturation_test/b73/sample80_3/ -o /public1/home/sc80041/yjiang22/nam/peak_saturation_test/b73/sample80_3 -r b73\n",
    "python atac-pipe_NAM_mt.py --MappingQC -t 95 -i /public1/home/sc80041/yjiang22/nam/peak_saturation_test/b73/sample80_4/ -o /public1/home/sc80041/yjiang22/nam/peak_saturation_test/b73/sample80_4 -r b73\n",
    "\n",
    "###--------------------qukunlab_atac_pipe merge----------------------###\n",
    "#!/bin/bash\n",
    "#SBATCH -p v6_384\n",
    "#SBATCH -N 1\n",
    "#SBATCH -n 96\n",
    "#SBATCH -o /public1/home/sc80041/yjiang22/nam/peak_saturation_test/log/b73_sample80_merge_and_peakcalling.log\n",
    "source activate jy_atac\n",
    "python atac-pipe_NAM_mt.py \\\n",
    "--Merge \\\n",
    "--bam /public1/home/sc80041/yjiang22/nam/peak_saturation_test/b73/sample80/Mapping \\\n",
    "-r b73 \\\n",
    "-o /public1/home/sc80041/yjiang22/nam/peak_saturation_test/b73/sample80 \\\n",
    "--group /public1/home/sc80041/yjiang22/nam/group/b73_group\n",
    "\n",
    "###--------------------qukunlab_atac_pipe peak calling----------------------###\n",
    "\n",
    "python atac-pipe_NAM_mt.py \\\n",
    "--PeakCalling \\\n",
    "--bed /public1/home/sc80041/yjiang22/nam/peak_saturation_test/b73/sample80/Mapping \\\n",
    "-r b73 \\\n",
    "-o /public1/home/sc80041/yjiang22/nam/peak_saturation_test/b73/sample80 \\\n",
    "--group /public1/home/sc80041/yjiang22/nam/group/b73_group \\\n",
    "--project b73\n",
    "\n"
   ]
  },
  {
   "cell_type": "markdown",
   "metadata": {},
   "source": [
    "### 将其他亲本atac数据map到b73上，看mapping bias情况 (测试了oh43 cml228 mo18w tzi8)"
   ]
  },
  {
   "cell_type": "code",
   "execution_count": null,
   "metadata": {
    "vscode": {
     "languageId": "shellscript"
    }
   },
   "outputs": [],
   "source": [
    "###-------------------------------以oh43为例--------------------------------###\n",
    "#!/bin/bash\n",
    "#SBATCH -p v6_384\n",
    "#SBATCH -N 1\n",
    "#SBATCH -n 96\n",
    "#SBATCH -o /public1/home/sc80041/yjiang22/nam/out/mapping_bias_test/oh43_map_to_b73_bias.log\n",
    "source activate jy_atac\n",
    "python atac-pipe_NAM_mt.py \\\n",
    "--MappingQC \\\n",
    "-t 95 \\\n",
    "-i /public1/home/sc80041/yjiang22/nam/fastq/oh43/ \\\n",
    "-o /public1/home/sc80041/yjiang22/nam/out/mapping_bias_test/oh43 \\\n",
    "-r b73\n",
    "\n",
    "python atac-pipe_NAM_mt.py \\\n",
    "--Merge \\\n",
    "--bam /public1/home/sc80041/yjiang22/nam/out/mapping_bias_test/oh43/Mapping \\\n",
    "-r b73 \\\n",
    "-o /public1/home/sc80041/yjiang22/nam/out/mapping_bias_test/oh43 \\\n",
    "--group /public1/home/sc80041/yjiang22/nam/group/oh43_group\n",
    "\n",
    "python atac-pipe_NAM_mt.py \\\n",
    "--PeakCalling \\\n",
    "--bed /public1/home/sc80041/yjiang22/nam/out/mapping_bias_test/oh43/Mapping \\\n",
    "-r b73 \\\n",
    "-o /public1/home/sc80041/yjiang22/nam/out/mapping_bias_test/oh43 \\\n",
    "--group /public1/home/sc80041/yjiang22/nam/group/oh43_group \\\n",
    "--project oh43\n",
    "\n"
   ]
  },
  {
   "cell_type": "markdown",
   "metadata": {},
   "source": [
    "### 用minimap2比对的方法，划分ocrl类型 （panoccr做query)"
   ]
  },
  {
   "cell_type": "code",
   "execution_count": null,
   "metadata": {
    "vscode": {
     "languageId": "shellscript"
    }
   },
   "outputs": [],
   "source": [
    "#!/bin/bash\n",
    "#SBATCH -p v6_384\n",
    "#SBATCH -N 1\n",
    "#SBATCH -n 50\n",
    "#SBATCH -o /public1/home/sc80041/yjiang22/nam/pan_ocr_construction/ocr_iterate/cluster_minimap2/log/b73_as_ref.log\n",
    "source activate /public1/home/sc80041/miniconda3/envs/minimap2\n",
    "cd /public1/home/sc80041/yjiang22/nam/pan_ocr_construction/ocr_iterate/cluster_minimap2\n",
    "minimap2 -t 48 -a ../fasta_peaks/b73_peaks.fa ./panocr_withid.fa | samtools view -b -o ./bam/b73_as_ref.bam\n",
    "\n",
    "\n",
    "perl ../../../get_the_detailed_mapping_information_from_minimap2_bam_jymodified.pl ./bam/b73_as_ref.bam 10 > ./bam/b73_as_ref.bam.q10.detail\n",
    "python calculate_bam_detail_coverage_and_identity.py b73\n",
    "grep True calculate_out/b73.cov_and_ide.morethan90.csv | awk -F ',' '{print $1}' > ./calculate_out/b73_as_ref.cov_and_ide.morethan90.id\n",
    "\n",
    "\n",
    "#出现了270条，同一条序列互相比对  全match但是被质量值q10过滤掉的情况，或unmapped的情况，\n",
    "#导致一些panocr在所有亲本中都找不到\n",
    "#解决方案：perl脚本质量值阈值设置为0，对于unmapped根据panocr id手动修改存在于哪个亲本"
   ]
  },
  {
   "cell_type": "code",
   "execution_count": null,
   "metadata": {
    "vscode": {
     "languageId": "shellscript"
    }
   },
   "outputs": [],
   "source": [
    "#!/bin/bash\n",
    "#SBATCH -p v6_384\n",
    "#SBATCH -N 1\n",
    "#SBATCH -n 50\n",
    "#SBATCH -o /public1/home/sc80041/yjiang22/nam/pan_ocr_construction/ocr_iterate/cluster_minimap2/log/each_parent_peaks_fa_as_ref.log\n",
    "source activate /public1/home/sc80041/miniconda3/envs/minimap2\n",
    "cd /public1/home/sc80041/yjiang22/nam/pan_ocr_construction/ocr_iterate/cluster_minimap2\n",
    "cat ../../../nam26_lowercase | while read id\n",
    "do\n",
    "    minimap2 -t 48 -a ../fasta_peaks/${id}_peaks.fa ./panocr_withid.fa | samtools view -b -o ./bam/${id}_as_ref.bam\n",
    "    perl ../../../get_the_detailed_mapping_information_from_minimap2_bam_jymodified.pl ./bam/${id}_as_ref.bam 10 > ./bam/${id}_as_ref.bam.q10.detail\n",
    "    python calculate_bam_detail_coverage_and_identity.py ${id}\n",
    "    grep True calculate_out/${id}.cov_and_ide.morethan90.csv | awk -F ',' '{print $1}' > ./calculate_out/${id}_as_ref.cov_and_ide.morethan90.id\n",
    "done\n",
    "\n",
    "\n"
   ]
  },
  {
   "cell_type": "markdown",
   "metadata": {},
   "source": [
    "### lyt b73 seedling frozen atac数据比对到b73 v5基因组，看与我b73 v5 call出的10万多个peak overlap情况如何"
   ]
  },
  {
   "cell_type": "code",
   "execution_count": null,
   "metadata": {
    "vscode": {
     "languageId": "shellscript"
    }
   },
   "outputs": [],
   "source": [
    "#!/bin/bash\n",
    "#SBATCH -p v6_384\n",
    "#SBATCH -N 1\n",
    "#SBATCH -n 96\n",
    "#SBATCH -o /public1/home/sc80041/yjiang22/lyt/b73seedlingfrozen_ATAC-pipe.log\n",
    "source activate jy_atac\n",
    "cd /public1/home/sc80041/yjiang22/software/ATAC-pipe-master\n",
    "\n",
    "python atac-pipe_NAM_mt.py --MappingQC -t 95 -i /public1/home/sc80041/yjiang22/lyt/fastq/fastq1/ -o /public1/home/sc80041/yjiang22/lyt/ -r b73\n",
    "python atac-pipe_NAM_mt.py --MappingQC -t 95 -i /public1/home/sc80041/yjiang22/lyt/fastq/fastq2/ -o /public1/home/sc80041/yjiang22/lyt/ -r b73\n",
    "\n",
    "python atac-pipe_NAM_mt.py \\\n",
    "--Merge \\\n",
    "--bam /public1/home/sc80041/yjiang22/lyt/Mapping \\\n",
    "-r b73 \\\n",
    "-o /public1/home/sc80041/yjiang22/lyt/ \\\n",
    "--group /public1/home/sc80041/yjiang22/lyt/b73_group\n",
    "\n",
    "python atac-pipe_NAM_mt.py \\\n",
    "--PeakCalling \\\n",
    "--bed /public1/home/sc80041/yjiang22/lyt/Mapping \\\n",
    "-r b73 \\\n",
    "-o /public1/home/sc80041/yjiang22/lyt/ \\\n",
    "--group /public1/home/sc80041/yjiang22/lyt/b73_group \\\n",
    "--project b73\n",
    "\n",
    "\n",
    "\n",
    "bedtools intersect -a jy_b73v5_narrowpeak -b lyt_b73v5_narrowpeak -wao > intersect_wao\n"
   ]
  },
  {
   "cell_type": "markdown",
   "metadata": {},
   "source": [
    "### 鉴定基因组之间的变异（snp, indel, sv)\n",
    "流程采用 nucmer + assemblytics,没用maxmatch参数，用的默认参数\n",
    "sv: nucmer + assemblytics + survivor  ;\n",
    "snp: nucmer + dnadiff"
   ]
  },
  {
   "cell_type": "markdown",
   "metadata": {},
   "source": [
    "### sv"
   ]
  },
  {
   "cell_type": "code",
   "execution_count": null,
   "metadata": {
    "vscode": {
     "languageId": "shellscript"
    }
   },
   "outputs": [],
   "source": [
    "#!/bin/bash\n",
    "#SBATCH -p v6_384\n",
    "#SBATCH -N 1\n",
    "#SBATCH -c 30\n",
    "#SBATCH -o /public1/home/sc80041/yjiang22/nam/variation_detection/b73_as_ref_mumreference/log/b73-cml103-nucmer.log\n",
    "source activate mummer4\n",
    "cd /public1/home/sc80041/yjiang22/nam/variation_detection/b73_as_ref_mumreference\n",
    "nucmer -l 100 -c 500 -t 30 /public1/home/sc80041/yjiang22/software/ATAC-pipe-master/Data/Ref/b73/Zm-B73-REFERENCE-NAM-5.0.fa /public1/home/sc80041/yjiang22/software/ATAC-pipe-master/Data/Ref/cml103/Zm-CML103-REFERENCE-NAM-1.0.fa --prefix b73-cml103\n",
    "\n",
    "#弃用网页端的assemblytics，安装命令行的assemblytics,再安装依赖的r包和python包\n",
    "#单个为例 assemblytics\n",
    "nohup /public1/home/sc80041/yjiang22/software/Assemblytics-master/scripts/Assemblytics ./p39_nucmer/b73-p39.delta b73-p39 10000 1 10000 &\n",
    "#批量asssemblytics\n",
    "ls | cut -d '.' -f 1 | uniq | while read id;do /public1/home/sc80041/yjiang22/software/Assemblytics-master/scripts/Assemblytics ./${id}_nucmer/${id}.delta ${id} 10000 1 10000;done\n",
    "\n",
    "#处理assemblytics结果文件\n",
    "#SURVIVOR convertAssemblytics（将assemblytics的结果bed文件转为vcf文件，并分成insertion和deletion两个文件，再将25*2个vcf文件merge）\n",
    "\n",
    "#!/bin/bash\n",
    "source activate gan-survivor\n",
    "cd /public1/home/sc80041/yjiang22/nam/variation_detection/b73_as_ref_mumreference/assemblytics\n",
    "ls | while read id\n",
    "do\n",
    "    SURVIVOR convertAssemblytics ./${id}/b73-${id}.Assemblytics_structural_variants.bed 50 ./${id}/b73-${id}.Assemblytics.SVs.vcf\n",
    "    grep '<DEL>' ./${id}/b73-${id}.Assemblytics.SVs.vcf > ./${id}/b73-${id}.Assemblytics.del.vcf\n",
    "    grep '<INS>' ./${id}/b73-${id}.Assemblytics.SVs.vcf > ./${id}/b73-${id}.Assemblytics.ins.vcf\n",
    "    sort -k1,1 -k2,2n ./${id}/b73-${id}.Assemblytics.ins.vcf > ./${id}/b73-${id}.Assemblytics.ins.sorted.vcf\n",
    "    sort -k1,1 -k2,2n ./${id}/b73-${id}.Assemblytics.del.vcf > ./${id}/b73-${id}.Assemblytics.del.sorted.vcf\n",
    "done\n",
    "\n",
    "#!/bin/bash\n",
    "source activate gan-survivor\n",
    "cd /public1/home/sc80041/yjiang22/nam/variation_detection/b73_as_ref/assemblytics\n",
    "SURVIVOR merge b73-as-ref.ins.vcf.namelist 1000 1 1 1 1 50 b73-as-ref.merged.ins.vcf ##将上面*ins.sorted.vcf文件路径存入到b73-as-ref.ins.vcf.namelist\n",
    "SURVIVOR merge b73-as-ref.del.vcf.namelist 1000 1 1 1 1 50 b73-as-ref.merged.del.vcf ##将上面*del.sorted.vcf文件路径存入到b73-as-ref.del.vcf.namelist\n",
    "\n",
    "grep -v '#' b73-as-ref.merged.ins.vcf | awk -F ';| ' '{print $1,$2,$7}' | awk -F ' ' '{print $1,$2,$10}' | sed 's/END=//g' | tr ' ' '\\t' > b73-as-ref.merged.ins.vcf.bed\n",
    "grep -v '#' b73-as-ref.merged.del.vcf | awk -F ';| ' '{print $1,$2,$7}' | awk -F ' ' '{print $1,$2,$10}' | sed 's/END=//g' | tr ' ' '\\t' > b73-as-ref.merged.del.vcf.bed\n",
    "#再去除上面bed文件里面scaf\n",
    "sed -i '/scaf/d' b73-as-ref.merged.del.vcf.bed\n",
    "sed -i '/scaf/d' b73-as-ref.merged.ins.vcf.bed"
   ]
  },
  {
   "cell_type": "markdown",
   "metadata": {},
   "source": [
    "#### panocr b73 subset里各类ocr的坐标"
   ]
  },
  {
   "cell_type": "code",
   "execution_count": null,
   "metadata": {
    "vscode": {
     "languageId": "shellscript"
    }
   },
   "outputs": [],
   "source": [
    "\n",
    "grep b73 cluster_dataframe.csv | grep -w '\\<core\\>' > b73_core.csv\n",
    "grep b73 cluster_dataframe.csv | grep private > b73_private.csv\n",
    "grep b73 cluster_dataframe.csv | grep softcore > b73_softcore.csv\n",
    "grep b73 cluster_dataframe.csv | grep dispensable > b73_dispensable.csv\n",
    "\n",
    "awk -F ':|-|,|_' '{print $2,$3,$4}' b73_dispensable.csv | sed 's/b73//g' | tr ' ' '\\t' > b73_dispensable.bed\n",
    "awk -F ':|-|,|_' '{print $2,$3,$4}' b73_core.csv | sed 's/b73//g' | tr ' ' '\\t' > b73_core.bed\n",
    "awk -F ':|-|,|_' '{print $2,$3,$4}' b73_softcore.csv | sed 's/b73//g' | tr ' ' '\\t' > b73_softcore.bed\n",
    "awk -F ':|-|,|_' '{print $2,$3,$4}' b73_private.csv | sed 's/b73//g' | tr ' ' '\\t' > b73_private.bed\n",
    "\n"
   ]
  },
  {
   "cell_type": "markdown",
   "metadata": {},
   "source": [
    "#### sv坐标与core dispensable ...ocr取交集，对于insertion只要有1bp重叠则count，对于deletion两者有50% overlap则count"
   ]
  },
  {
   "cell_type": "code",
   "execution_count": null,
   "metadata": {
    "vscode": {
     "languageId": "shellscript"
    }
   },
   "outputs": [],
   "source": [
    "bedtools intersect -a b73_core.bed -b assemblytics/b73-as-ref.merged.del.vcf.bed -wao > b73_core.sv_del.wao\n",
    "bedtools intersect -a b73_core.bed -b assemblytics/b73-as-ref.merged.ins.vcf.bed -wao > b73_core.sv_ins.wao"
   ]
  },
  {
   "cell_type": "markdown",
   "metadata": {},
   "source": [
    "### snp"
   ]
  },
  {
   "cell_type": "code",
   "execution_count": null,
   "metadata": {
    "vscode": {
     "languageId": "shellscript"
    }
   },
   "outputs": [],
   "source": [
    "##----dnadiff找变异\n",
    "\n",
    "#!/bin/bash\n",
    "#SBATCH -p v6_384\n",
    "#SBATCH -N 1\n",
    "#SBATCH -c 10\n",
    "#SBATCH -o /public1/home/sc80041/yjiang22/nam/variation_detection/b73_as_ref_mumreference/log/b73-as-ref-dnadiff.log\n",
    "source activate mummer4\n",
    "cd /public1/home/sc80041/yjiang22/nam/variation_detection/b73_as_ref_mumreference\n",
    "cut -f 2 iterate-config-ref-query--3.txt | while read id\n",
    "do\n",
    "    dnadiff -d b73-${id}.delta -p b73-${id} && echo \"---b73-${id} dnadiff done---\"\n",
    "done\n",
    "\n",
    "##----转换dnadiff结果的.snp文件\n",
    "/public1/home/sc80041/yjiang22/software/all2vcf-master/all2vcf mummer --snps ./oh43_nucmer/b73-oh43.snps --reference /public1/home/sc80041/yjiang22/software/ATAC-pipe-master/Data/Ref/b73/Zm-B73-REFERENCE-NAM-5.0.fa --type ALL > ./oh43_nucmer/b73-oh43.snps.all2vcf.vcf\n",
    "\n",
    "#!/bin/bash\n",
    "cd /public1/home/sc80041/yjiang22/nam/variation_detection/b73_as_ref_mumreference/\n",
    "cut -f 2 iterate-config-ref-query--3.txt | while read id\n",
    "do \n",
    "    /public1/home/sc80041/yjiang22/software/all2vcf-master/all2vcf mummer \\\n",
    "    --snps ./${id}/b73-${id}.snps \\\n",
    "    --reference /public1/home/sc80041/yjiang22/software/ATAC-pipe-master/Data/Ref/b73/Zm-B73-REFERENCE-NAM-5.0.fa \\\n",
    "    --type  ALL > ./${id}/b73-${id}.snps.all2vcf.vcf\n",
    "done\n",
    "\n",
    "##----提取all2vcf.vcf里面的snp\n",
    "cut -f 2 iterate-config-ref-query--3.txt | while read id\n",
    "do \n",
    "    awk '$8==\".\" {print $0}' ./${id}_nucmer/b73-${id}.snps.all2vcf.vcf > ./${id}_nucmer/b73-${id}.snps.all2vcf.vcf.snp\n",
    "done\n",
    "cut -f 1,2 */*all2vcf.vcf.snp >> b73-as-ref.snp\n",
    "grep -v 'scaf' b73-as-ref.snp > b73-as-ref.chr.snp\n",
    "cat b73-as-ref.chr.snp | sort | uniq > b73-as-ref.chr.snp.uniq\n",
    "sort -k1,1 -k2,2n b73-as-ref.chr.snp.uniq > b73-as-ref.chr.snp.uniq.sort\n",
    "cut -f 2 b73-as-ref.chr.snp.uniq.sort > tmp\n",
    "paste b73-as-ref.chr.snp.uniq.sort tmp > b73-as-ref.chr.snp.uniq.sort.bed\n",
    "bedtools intersect -a b73_core.bed -b b73-as-ref.chr.snp.uniq.sort.bed -wao > b73_core.snp.wao\n",
    "bedtools intersect -a b73_softcore.bed -b b73-as-ref.chr.snp.uniq.sort.bed -wao > b73_softcore.snp.wao\n",
    "bedtools intersect -a b73_dispensable.bed -b b73-as-ref.chr.snp.uniq.sort.bed -wao > b73_dispensable.snp.wao\n",
    "bedtools intersect -a b73_private.bed -b b73-as-ref.chr.snp.uniq.sort.bed -wao > b73_private.snp.wao\n",
    "\n",
    "grep -v '\\.' b73_core.snp.wao | wc -l\n",
    "\n"
   ]
  },
  {
   "cell_type": "markdown",
   "metadata": {},
   "source": [
    "#### indel(1-50bp)"
   ]
  },
  {
   "cell_type": "code",
   "execution_count": null,
   "metadata": {
    "vscode": {
     "languageId": "shellscript"
    }
   },
   "outputs": [],
   "source": [
    "cut -f 2 iterate-config-ref-query--3.txt | while read id;do grep 'INDEL' ./${id}_nucmer/*.snps.all2vcf.vcf > ${id}_nucmer/b73-${id}.snps.all2vcf.vcf.indel;done\n",
    "cut -f 1,2 */*snps.all2vcf.vcf.indel >> b73-as-ref.indel\n",
    "grep -v 'scaf' b73-as-ref.indel > b73-as-ref.chr.indel\n",
    "cat b73-as-ref.chr.indel | sort | uniq > b73-as-ref.chr.indel.uniq\n",
    "sort -k1,1 -k2,2n b73-as-ref.chr.indel.uniq > b73-as-ref.chr.indel.uniq.sort\n",
    "cut -f 2 b73-as-ref.chr.indel.uniq.sort > tmp\n",
    "paste b73-as-ref.chr.indel.uniq.sort tmp > b73-as-ref.chr.indel.uniq.sort.bed\n",
    "rm tmp\n",
    "bedtools intersect -a b73_core.bed -b b73-as-ref.chr.indel.uniq.sort.bed -wao > b73_core.indel.wao\n",
    "grep -v '\\.' b73_core.indel.wao | wc -l\n",
    "\n",
    "\n",
    "\n"
   ]
  },
  {
   "cell_type": "markdown",
   "metadata": {},
   "source": [
    "### oh43划分四类ocr，依据先前panocr做query，各亲本（含oh43）peaks.fa做ref，minimap2比对的结果，保留one-to-one，cov_and_ide>=90%，建立已划分好label的panocr与oh43 ocr之间一对一的关系，以划分oh43 ocr的类别"
   ]
  },
  {
   "cell_type": "markdown",
   "metadata": {},
   "source": [
    "#### panocr_oh43_subset 遗传变异特征（与b73 subset类似）"
   ]
  },
  {
   "cell_type": "code",
   "execution_count": null,
   "metadata": {
    "vscode": {
     "languageId": "shellscript"
    }
   },
   "outputs": [],
   "source": [
    "#!/bin/bash\n",
    "#SBATCH -p v6_384\n",
    "#SBATCH -N 1\n",
    "#SBATCH -c 30\n",
    "#SBATCH -o /public1/home/sc80041/yjiang22/nam/variation_detection/oh43_as_ref_mumreference/log/oh43-as-ref-nucmer-dnadiff.log\n",
    "source activate mummer4\n",
    "cd /public1/home/sc80041/yjiang22/nam/variation_detection/oh43_as_ref_mumreference\n",
    "cut -f 2 query_list | while read id\n",
    "do\n",
    "    nucmer -l 100 -c 500 -t 30 /public1/home/sc80041/yjiang22/software/ATAC-pipe-master/Data/Ref/oh43/Zm-Oh43-REFERENCE-NAM-1.0.fa /public1/home/sc80041/yjiang22/software/ATAC-pipe-master/Data/Ref/${id}/*NAM*.fa --prefix oh43-${id} && echo \"---oh43-${id} nucmer done---\"\n",
    "    dnadiff -d oh43-${id}.delta -p oh43-${id} && echo \"---oh43-${id} dnadiff done---\"\n",
    "done\n",
    "\n",
    "##--------------- sv ------------------##\n",
    "ls | cut -d '.' -f 1 | uniq | while read id\n",
    "do \n",
    "    /public1/home/sc80041/yjiang22/software/Assemblytics-master/scripts/Assemblytics ./${id}_nucmer/${id}.delta ${id} 10000 1 10000\n",
    "done\n",
    "\n",
    "#!/bin/bash\n",
    "source activate gan-survivor\n",
    "cd /public1/home/sc80041/yjiang22/nam/variation_detection/b73_as_ref_mumreference/assemblytics\n",
    "ls | while read id\n",
    "do\n",
    "    SURVIVOR convertAssemblytics ./${id}/oh43-${id}.Assemblytics_structural_variants.bed 50 ./${id}/oh43-${id}.Assemblytics.SVs.vcf\n",
    "    grep '<DEL>' ./${id}/oh43-${id}.Assemblytics.SVs.vcf > ./${id}/oh43-${id}.Assemblytics.del.vcf\n",
    "    grep '<INS>' ./${id}/oh43-${id}.Assemblytics.SVs.vcf > ./${id}/oh43-${id}.Assemblytics.ins.vcf\n",
    "    sort -k1,1 -k2,2n ./${id}/oh43-${id}.Assemblytics.ins.vcf > ./${id}/oh43-${id}.Assemblytics.ins.sorted.vcf\n",
    "    sort -k1,1 -k2,2n ./${id}/oh43-${id}.Assemblytics.del.vcf > ./${id}/oh43-${id}.Assemblytics.del.sorted.vcf\n",
    "done\n",
    "\n",
    "#!/bin/bash\n",
    "source activate gan-survivor\n",
    "cd /public1/home/sc80041/yjiang22/nam/variation_detection/oh43_as_ref_mumreference/assemblytics\n",
    "SURVIVOR merge oh43-as-ref.ins.vcf.namelist 1000 1 1 1 1 50 oh43-as-ref.merged.ins.vcf ##将上面*ins.sorted.vcf文件路径存入到b73-as-ref.ins.vcf.namelist\n",
    "SURVIVOR merge oh43-as-ref.del.vcf.namelist 1000 1 1 1 1 50 oh43-as-ref.merged.del.vcf ##将上面*del.sorted.vcf文件路径存入到b73-as-ref.del.vcf.namelist\n",
    "\n",
    "grep -v '#' oh43-as-ref.merged.ins.vcf | awk -F ';| ' '{print $1,$2,$7}' | awk -F ' ' '{print $1,$2,$10}' | sed 's/END=//g' | tr ' ' '\\t' > oh43-as-ref.merged.ins.vcf.bed\n",
    "grep -v '#' oh43-as-ref.merged.del.vcf | awk -F ';| ' '{print $1,$2,$7}' | awk -F ' ' '{print $1,$2,$10}' | sed 's/END=//g' | tr ' ' '\\t' > oh43-as-ref.merged.del.vcf.bed\n",
    "#再去除上面bed文件里面scaf\n",
    "sed -i '/scaf/d' oh43-as-ref.merged.del.vcf.bed\n",
    "sed -i '/scaf/d' oh43-as-ref.merged.ins.vcf.bed\n",
    "\n",
    "##--------------- snp ------------------##\n",
    "\n",
    "##----转换dnadiff结果的.snp文件\n",
    "/public1/home/sc80041/yjiang22/software/all2vcf-master/all2vcf mummer --snps ./oh43_nucmer/b73-oh43.snps --reference /public1/home/sc80041/yjiang22/software/ATAC-pipe-master/Data/Ref/b73/Zm-B73-REFERENCE-NAM-5.0.fa --type ALL > ./oh43_nucmer/b73-oh43.snps.all2vcf.vcf\n",
    "\n",
    "#!/bin/bash\n",
    "cd /public1/home/sc80041/yjiang22/nam/variation_detection/b73_as_ref_mumreference/\n",
    "cat query_list | while read id\n",
    "do \n",
    "    /public1/home/sc80041/yjiang22/software/all2vcf-master/all2vcf mummer \\\n",
    "    --snps ./${id}_nucmer/oh43-${id}.snps \\\n",
    "    --reference /public1/home/sc80041/yjiang22/software/ATAC-pipe-master/Data/Ref/b73/Zm-Oh43-REFERENCE-NAM-1.0.fa \\\n",
    "    --type  ALL > ./${id}/oh43-${id}.snps.all2vcf.vcf\n",
    "done\n",
    "\n",
    "##----提取all2vcf.vcf里面的snp\n",
    "cat query_list | while read id;do awk '$8==\".\" {print $0}' ./${id}_nucmer/oh43-${id}.snps.all2vcf.vcf > ./${id}_nucmer/oh43-${id}.snps.all2vcf.vcf.snp;done\n",
    "cut -f 1,2 */*all2vcf.vcf.snp >> oh43-as-ref.snp\n",
    "grep -v 'scaf' oh43-as-ref.snp > oh43-as-ref.chr.snp\n",
    "cat oh43-as-ref.chr.snp | sort | uniq > oh43-as-ref.chr.snp.uniq\n",
    "sort -k1,1 -k2,2n oh43-as-ref.chr.snp.uniq > oh43-as-ref.chr.snp.uniq.sort\n",
    "cut -f 2 oh43-as-ref.chr.snp.uniq.sort > tmp\n",
    "paste oh43-as-ref.chr.snp.uniq.sort tmp > oh43-as-ref.chr.snp.uniq.sort.bed\n",
    "\n",
    "bedtools intersect -a oh43_core.bed -b oh43-as-ref.chr.snp.uniq.sort.bed -wao > oh43_core.snp.wao\n",
    "bedtools intersect -a oh43_dispensable.bed -b oh43-as-ref.chr.snp.uniq.sort.bed -wao > oh43_dispensable.snp.wao\n",
    "bedtools intersect -a oh43_softcore.bed -b oh43-as-ref.chr.snp.uniq.sort.bed -wao > oh43_softcore.snp.wao\n",
    "bedtools intersect -a oh43_private.bed -b oh43-as-ref.chr.snp.uniq.sort.bed -wao > oh43_private.snp.wao\n",
    "\n",
    "grep -v '\\.' oh43_core.snp.wao | wc -l\n",
    "\n",
    "\n",
    "##------------- indel(1-50bp) ----------##\n",
    "cat query_list | while read id;do grep 'INDEL' ./${id}_nucmer/*.snps.all2vcf.vcf > ${id}_nucmer/oh43-${id}.snps.all2vcf.vcf.indel;done\n",
    "cut -f 1,2 *_nucmer/*snps.all2vcf.vcf.indel >> oh43-as-ref.indel\n",
    "grep -v 'scaf' oh43-as-ref.indel > oh43-as-ref.chr.indel\n",
    "cat oh43-as-ref.chr.indel | sort | uniq > oh43-as-ref.chr.indel.uniq\n",
    "sort -k1,1 -k2,2n oh43-as-ref.chr.indel.uniq > oh43-as-ref.chr.indel.uniq.sort\n",
    "cut -f 2 oh43-as-ref.chr.indel.uniq.sort > tmp\n",
    "paste oh43-as-ref.chr.indel.uniq.sort tmp > oh43-as-ref.chr.indel.uniq.sort.bed\n",
    "bedtools intersect -a oh43_core.bed -b oh43-as-ref.chr.indel.uniq.sort.bed -wao > oh43_core.indel.wao\n",
    "bedtools intersect -a oh43_private.bed -b oh43-as-ref.chr.indel.uniq.sort.bed -wao > oh43_private.indel.wao\n",
    "bedtools intersect -a oh43_softcore.bed -b oh43-as-ref.chr.indel.uniq.sort.bed -wao > oh43_softcore.indel.wao\n",
    "bedtools intersect -a oh43_dispensable.bed -b oh43-as-ref.chr.indel.uniq.sort.bed -wao > oh43_dispensable.indel.wao\n",
    "\n",
    "grep -v '\\.' oh43_core.indel.wao | wc -l\n",
    "grep -v '\\.' oh43_softcore.indel.wao | wc -l\n",
    "grep -v '\\.' oh43_dispensable.indel.wao | wc -l\n",
    "grep -v '\\.' oh43_private.indel.wao | wc -l\n",
    "\n"
   ]
  },
  {
   "cell_type": "markdown",
   "metadata": {},
   "source": [
    "#### panocr_tzi8_subset 遗传变异特征（与b73 subset类似）"
   ]
  },
  {
   "cell_type": "code",
   "execution_count": null,
   "metadata": {
    "vscode": {
     "languageId": "shellscript"
    }
   },
   "outputs": [],
   "source": [
    "#!/bin/bash\n",
    "#SBATCH -p v6_384\n",
    "#SBATCH -N 1\n",
    "#SBATCH -c 60\n",
    "#SBATCH -o /public1/home/sc80041/yjiang22/nam/variation_detection/tzi8_as_ref_mumreference/log/tzi8-as-ref-nucmer.log\n",
    "source activate mummer4\n",
    "cd /public1/home/sc80041/yjiang22/nam/variation_detection/tzi8_as_ref_mumreference\n",
    "cat query_list | while read id\n",
    "do\n",
    "    nucmer -l 100 -c 500 -t 60 /public1/home/sc80041/yjiang22/software/ATAC-pipe-master/Data/Ref/tzi8/Zm-Tzi8-REFERENCE-NAM-1.0.fa /public1/home/sc80041/yjiang22/software/ATAC-pipe-master/Data/Ref/${id}/*NAM*.fa --prefix tzi8-${id} && echo \"---tzi8-${id} nucmer done---\"\n",
    "done\n",
    "\n",
    "#!/bin/bash\n",
    "#SBATCH -p v6_384\n",
    "#SBATCH -N 1\n",
    "#SBATCH -c 5\n",
    "#SBATCH -o /public1/home/sc80041/yjiang22/nam/variation_detection/tzi8_as_ref_mumreference/log/tzi8-as-ref-dnadiff.log\n",
    "source activate mummer4\n",
    "cd /public1/home/sc80041/yjiang22/nam/variation_detection/tzi8_as_ref_mumreference\n",
    "cat query_list | while read id\n",
    "do\n",
    "    dnadiff -d tzi8-${id}.delta -p tzi8-${id} && echo \"---tzi8-${id} dnadiff done---\"\n",
    "done\n",
    "\n",
    "##--------------- sv ------------------##\n",
    "#!/bin/bash\n",
    "cd /public1/home/sc80041/yjiang22/nam/variation_detection/tzi8_as_ref_mumreference/assemblytics\n",
    "cat ../query_list | while read id\n",
    "do \n",
    "    /public1/home/sc80041/yjiang22/software/Assemblytics-master/scripts/Assemblytics ./${id}/tzi8-${id}.delta ${id} 10000 1 10000\n",
    "done\n",
    "\n",
    "#!/bin/bash\n",
    "source activate gan-survivor\n",
    "cd /public1/home/sc80041/yjiang22/nam/variation_detection/tzi8_as_ref_mumreference/assemblytics\n",
    "cat ../query_list | while read id\n",
    "do\n",
    "    SURVIVOR convertAssemblytics ./${id}/${id}.Assemblytics_structural_variants.bed 50 ./${id}/${id}.Assemblytics.SVs.vcf\n",
    "    grep '<DEL>' ./${id}/${id}.Assemblytics.SVs.vcf > ./${id}/${id}.Assemblytics.del.vcf\n",
    "    grep '<INS>' ./${id}/${id}.Assemblytics.SVs.vcf > ./${id}/${id}.Assemblytics.ins.vcf\n",
    "    sort -k1,1 -k2,2n ./${id}/${id}.Assemblytics.ins.vcf > ./${id}/${id}.Assemblytics.ins.sorted.vcf\n",
    "    sort -k1,1 -k2,2n ./${id}/${id}.Assemblytics.del.vcf > ./${id}/${id}.Assemblytics.del.sorted.vcf\n",
    "done\n",
    "\n",
    "#!/bin/bash\n",
    "source activate gan-survivor\n",
    "cd /public1/home/sc80041/yjiang22/nam/variation_detection/tzi8_as_ref_mumreference/assemblytics\n",
    "SURVIVOR merge tzi8-as-ref.ins.vcf.namelist 1000 1 1 1 1 50 tzi8-as-ref.merged.ins.vcf ##将上面*ins.sorted.vcf文件路径存入到b73-as-ref.ins.vcf.namelist\n",
    "SURVIVOR merge tzi8-as-ref.del.vcf.namelist 1000 1 1 1 1 50 tzi8-as-ref.merged.del.vcf ##将上面*del.sorted.vcf文件路径存入到b73-as-ref.del.vcf.namelist\n",
    "\n",
    "grep -v '#' tzi8-as-ref.merged.ins.vcf | awk -F ';| ' '{print $1,$2,$7}' | awk -F ' ' '{print $1,$2,$10}' | sed 's/END=//g' | tr ' ' '\\t' > tzi8-as-ref.merged.ins.vcf.bed\n",
    "grep -v '#' tzi8-as-ref.merged.del.vcf | awk -F ';| ' '{print $1,$2,$7}' | awk -F ' ' '{print $1,$2,$10}' | sed 's/END=//g' | tr ' ' '\\t' > tzi8-as-ref.merged.del.vcf.bed\n",
    "#再去除上面bed文件里面scaf\n",
    "sed -i '/scaf/d' tzi8-as-ref.merged.del.vcf.bed\n",
    "sed -i '/scaf/d' tzi8-as-ref.merged.ins.vcf.bed\n",
    "\n",
    "##--------------- snp ------------------##\n",
    "\n",
    "##----转换dnadiff结果的.snp文件\n",
    "\n",
    "#!/bin/bash\n",
    "cd /public1/home/sc80041/yjiang22/nam/variation_detection/tzi8_as_ref_mumreference/\n",
    "cat query_list | while read id\n",
    "do \n",
    "    /public1/home/sc80041/yjiang22/software/all2vcf-master/all2vcf mummer \\\n",
    "    --snps ./${id}_nucmer/tzi8-${id}.snps \\\n",
    "    --reference /public1/home/sc80041/yjiang22/software/ATAC-pipe-master/Data/Ref/tzi8/Zm-Tzi8-REFERENCE-NAM-1.0.fa \\\n",
    "    --type  ALL > ./${id}_nucmer/tzi8-${id}.snps.all2vcf.vcf && echo \"---${id} all2vcf done----\"\n",
    "done\n",
    "\n",
    "##----提取all2vcf.vcf里面的snp\n",
    "cat query_list | while read id;do awk '$8==\".\" {print $0}' ./${id}_nucmer/tzi8-${id}.snps.all2vcf.vcf > ./${id}_nucmer/tzi8-${id}.snps.all2vcf.vcf.snp;done\n",
    "cut -f 1,2 *nucmer/*all2vcf.vcf.snp >> tzi8-as-ref.snp\n",
    "grep -v 'scaf' tzi8-as-ref.snp > tzi8-as-ref.chr.snp\n",
    "cat tzi8-as-ref.chr.snp | sort | uniq > tzi8-as-ref.chr.snp.uniq\n",
    "sort -k1,1 -k2,2n tzi8-as-ref.chr.snp.uniq > tzi8-as-ref.chr.snp.uniq.sort\n",
    "cut -f 2 tzi8-as-ref.chr.snp.uniq.sort > tmp\n",
    "paste tzi8-as-ref.chr.snp.uniq.sort tmp > tzi8-as-ref.chr.snp.uniq.sort.bed\n",
    "rm tmp\n",
    "bedtools intersect -a ./tzi8_label_process/tzi8_panocr_core.bed -b tzi8-as-ref.chr.snp.uniq.sort.bed -wao > tzi8_core.snp.wao\n",
    "bedtools intersect -a ./tzi8_label_process/tzi8_panocr_dispensable.bed -b tzi8-as-ref.chr.snp.uniq.sort.bed -wao > tzi8_dispensable.snp.wao\n",
    "bedtools intersect -a ./tzi8_label_process/tzi8_panocr_softcore.bed -b tzi8-as-ref.chr.snp.uniq.sort.bed -wao > tzi8_softcore.snp.wao\n",
    "bedtools intersect -a ./tzi8_label_process/tzi8_panocr_private.bed -b tzi8-as-ref.chr.snp.uniq.sort.bed -wao > tzi8_private.snp.wao\n",
    "#计数\n",
    "grep -v '\\.' oh43_core.snp.wao | wc -l\n",
    "\n",
    "\n",
    "##------------- indel(1-50bp) ----------##\n",
    "cat query_list | while read id;do grep 'INDEL' ./${id}_nucmer/*.snps.all2vcf.vcf > ${id}_nucmer/tzi8-${id}.snps.all2vcf.vcf.indel;done\n",
    "cut -f 1,2 *_nucmer/*snps.all2vcf.vcf.indel >> tzi8-as-ref.indel\n",
    "grep -v 'scaf' tzi8-as-ref.indel > tzi8-as-ref.chr.indel\n",
    "cat tzi8-as-ref.chr.indel | sort | uniq > tzi8-as-ref.chr.indel.uniq\n",
    "sort -k1,1 -k2,2n tzi8-as-ref.chr.indel.uniq > tzi8-as-ref.chr.indel.uniq.sort\n",
    "cut -f 2 tzi8-as-ref.chr.indel.uniq.sort > tmp\n",
    "paste tzi8-as-ref.chr.indel.uniq.sort tmp > tzi8-as-ref.chr.indel.uniq.sort.bed\n",
    "rm tmp\n",
    "bedtools intersect -a ./tzi8_label_process/tzi8_panocr_core.bed -b tzi8-as-ref.chr.indel.uniq.sort.bed -wao > tzi8_core.indel.wao\n",
    "bedtools intersect -a ./tzi8_label_process/tzi8_panocr_private.bed -b tzi8-as-ref.chr.indel.uniq.sort.bed -wao > tzi8_private.indel.wao\n",
    "bedtools intersect -a ./tzi8_label_process/tzi8_panocr_softcore.bed -b tzi8-as-ref.chr.indel.uniq.sort.bed -wao > tzi8_softcore.indel.wao\n",
    "bedtools intersect -a ./tzi8_label_process/tzi8_panocr_dispensable.bed -b tzi8-as-ref.chr.indel.uniq.sort.bed -wao > tzi8_dispensable.indel.wao\n",
    "\n",
    "grep -v '\\.' tzi8_core.indel.wao | wc -l\n",
    "grep -v '\\.' tzi8_softcore.indel.wao | wc -l\n",
    "grep -v '\\.' tzi8_dispensable.indel.wao | wc -l\n",
    "grep -v '\\.' tzi8_private.indel.wao | wc -l\n",
    "\n",
    "\n",
    "\n"
   ]
  },
  {
   "cell_type": "markdown",
   "metadata": {},
   "source": [
    "### 绘制ocr上snp变异趋势"
   ]
  },
  {
   "cell_type": "code",
   "execution_count": null,
   "metadata": {
    "vscode": {
     "languageId": "shellscript"
    }
   },
   "outputs": [],
   "source": [
    "zcat all.chr.raw.vcf.gz | awk -F \"\\t\" -v OFS=\"\\t\" '{print $1,$2,$3}' > B73.snp\n",
    "grep -v \"#\" B73.snp |awk -F \"\\t\" -v OFS=\"\\t\" '{print \"chr\"$1,$2,$2,$3}' >B73.snp.bed\n",
    "bedToBam -i B73.snp.bed -g B73V4.genome >B73.snp.bam\n",
    "samtools index B73.snp.bam\n",
    "bamCoverage -o B73.snp.bw -b B73.snp.bam  -p 20 --effectiveGenomeSize 2100000000 --binSize 10\n",
    "computeMatrix reference-point --referencePoint center -p 30 -b 2000 -a 2000 -R ear.bed leaf.bed tassel.bed seedling.bed common.bed -S B73.snp.bw  --skipZeros -o tissue_matrix_summit_2kb.gz\n",
    "plotProfile -m tissue_matrix_summit_2kb.gz -out tissue_merged_matrix_summit_2kb.svg --perGroup #每个sample一个图\n",
    "plotProfile -m tissue_matrix_summit_2kb.gz -out tissue_merged_matrix_summit_2kb.svg #所有的sample merged到一张\n",
    "\n",
    "\n",
    "bedToBam -i b73.plot.snp.bed -g b73.genome > b73.snp.bam  ##b73.plot.snp.bed要求四列，chr start end id; b73.genome格式为chr \\t length\n",
    "samtools index b73.snp.bam\n",
    "bamCoverage -o b73.snp.bw -b b73.snp.bam  -p 10 --effectiveGenomeSize 2100000000 --binSize 10\n",
    "computeMatrix reference-point --referencePoint center -p 10 -b 2000 -a 2000 -R ../b73_private.bed ../b73_dispensable.bed ../b73_softcore.bed ../b73_core.bed -S b73.snp.bw  --skipZeros -o type4_matrix_summit_2kb.gz\n",
    "plotProfile -m type4_matrix_summit_2kb.gz -out type4_matrix_summit_2kb.gz_per.svg --perGroup #每个sample一个图\n",
    "plotProfile -m type4_matrix_summit_2kb.gz -out type4_matrix_summit_2kb.gz_merge.svg #所有的sample merged到一张\n",
    "\n"
   ]
  },
  {
   "cell_type": "markdown",
   "metadata": {},
   "source": [
    "### EDTA注释转座子"
   ]
  },
  {
   "cell_type": "code",
   "execution_count": null,
   "metadata": {
    "vscode": {
     "languageId": "shellscript"
    }
   },
   "outputs": [],
   "source": [
    "#!/bin/bash\n",
    "#SBATCH -p v6_384\n",
    "#SBATCH -N 1\n",
    "#SBATCH -c 30\n",
    "#SBATCH -o /public1/home/sc80041/yjiang22/nam/TE/log/b73.edta.log\n",
    "source activate EDTA\n",
    "cd /public1/home/sc80041/yjiang22/nam/TE\n",
    "perl /public1/home/sc80041/yjiang22/software/EDTA-master/EDTA.pl \\\n",
    "    -genome ./B73/Zm-B73-REFERENCE-NAM-5.0.fa \\\n",
    "    -step all -species Maize --curatedlib maizeTE02052020 \\\n",
    "    --cds ./B73/Zm-B73-REFERENCE-NAM-5.0_Zm00001eb.1.cds.fa \\\n",
    "    --anno 1 \\\n",
    "    --evaluate 0\\\n",
    "     -t 30 \\\n",
    "    && echo \"--b73 edta done--\"\n",
    "\n"
   ]
  },
  {
   "cell_type": "markdown",
   "metadata": {},
   "source": [
    "### 更新call peak流程"
   ]
  },
  {
   "cell_type": "code",
   "execution_count": null,
   "metadata": {
    "vscode": {
     "languageId": "shellscript"
    }
   },
   "outputs": [],
   "source": [
    "#各亲本重复间_1.fq合并，_2.fq合并\n",
    "cat b73rep*_1.fq >> b73_1.fq\n",
    "cat b73rep*_2.fq >> b73_2.fq\n",
    "\n",
    "#!/bin/bash\n",
    "#SBATCH -p v6_384\n",
    "#SBATCH -N 1\n",
    "#SBATCH -c 96\n",
    "#SBATCH -o /public1/home/sc80041/yjiang22/nam/fastq/b73/process.log\n",
    "cd /public1/home/sc80041/yjiang22/nam/fastq/b73\n",
    "source activate jy_atac\n",
    "fastp --thread 80 -i b73_1.fq.gz -I b73_2.fq.gz -o b73_1.fastp.fq.gz -O b73_2.fastp.fq.gz --detect_adapter_for_pe --correction --length_required 35 && echo '--fastp done--'\n",
    "bowtie2 -p 94 --local --very-sensitive-local --seed 1 -q --no-mixed --no-discordant --maxins 1000 \\\n",
    "    -x /public1/home/sc80041/yjiang22/software/ATAC-pipe-master/Data/Ref/b73/b73 \\\n",
    "    -1 b73_1.fastp.fq.gz -2 b73_2.fastp.fq.gz > b73.sam && echo '--bowtie2 done--'\n",
    "\n",
    "samtools view -@ 80 -b -h -S b73.sam > b73.bam\n",
    "samtools sort b73.bam -@ 80 -O bam -o b73.sort.bam\n",
    "sambamba markdup --remove-duplicates b73.sort.bam b73.sort.rmdup.bam && echo '--rmdup done--' ##去除pcr重复\n",
    "samtools view -@ 80 -q 30 -O bam -o b73.sort.rmdup.q30.bam b73.sort.rmdup.bam  ##mapping quality按30过滤\n",
    "samtools index -@ 80 b73.sort.rmdup.q30.bam\n",
    "alignmentSieve --numberOfProcessors 40 --ATACshift -b b73.sort.rmdup.q30.bam -o b73.sort.rmdup.q30.shift.bam && echo '--shift done--' ##移码\n",
    "bedtools bamtobed -i b73.sort.rmdup.q30.shift.bam > b73.sort.rmdup.q30.shift.bed && echo '--bam2bed done--'\n",
    "samtools sort b73.sort.rmdup.q30.shift.bam -@ 80 -O bam -o b73.sort.rmdup.q30.shift.sort.bam\n",
    "samtools index -@ 80 b73.sort.rmdup.q30.shift.sort.bam\n",
    "bamCoverage -o b73.sort.rmdup.q30.shift.sort.bw -b b73.sort.rmdup.q30.shift.sort.bam -p 40 --normalizeUsing RPGC --effectiveGenomeSize 2100000000 --binSize 10\n",
    "macs2 callpeak --format BED --gsize 2.1e+9 --keep-dup all --qvalue 0.05 --extsize 200 --shift -100 --nomodel -t b73.sort.rmdup.q30.shift.bed -n b73 --outdir ./ && echo '--call peak done--'\n",
    "\n",
    "\n",
    "macs2 callpeak --format BED --gsize 1.8e+9 --keep-dup all --qvalue 0.005 --extsize 200 --shift -100 --nomodel -t b73.sort.rmdup.q30.shift.bed -n b73 --outdir ../ "
   ]
  },
  {
   "cell_type": "code",
   "execution_count": null,
   "metadata": {
    "vscode": {
     "languageId": "shellscript"
    }
   },
   "outputs": [],
   "source": [
    "#!/bin/bash\n",
    "#SBATCH -p v6_384\n",
    "#SBATCH -N 1\n",
    "#SBATCH -c 10\n",
    "#SBATCH -o /public1/home/sc80041/yjiang22/nam/fastq/oh43/fastp.log\n",
    "cd /public1/home/sc80041/yjiang22/nam/fastq/oh43\n",
    "source activate jy_atac\n",
    "fastp -i oh43_1.fq.gz -I oh43_2.fq.gz -o oh43_1.fastp.fq.gz -O oh43_2.fastp.fq.gz --detect_adapter_for_pe --correction --length_required 35\n",
    "\n",
    "#!/bin/bash\n",
    "#SBATCH -p v6_384\n",
    "#SBATCH -N 1\n",
    "#SBATCH -c 96\n",
    "#SBATCH -o /public1/home/sc80041/yjiang22/nam/fastq/oh43/bowtie2.log\n",
    "cd /public1/home/sc80041/yjiang22/nam/fastq/oh43\n",
    "source activate jy_atac\n",
    "bowtie2 -p 94 --local --very-sensitive-local --seed 1 -q --no-mixed --no-discordant --maxins 1000 \\\n",
    "    -x /public1/home/sc80041/yjiang22/software/ATAC-pipe-master/Data/Ref/oh43/oh43 \\\n",
    "    -1 oh43_1.fastp.fq.gz -2 oh43_2.fastp.fq.gz > oh43.sam\n",
    "\n",
    "samtools view -@ 8 -b -h -S oh43.sam > oh43.bam\n",
    "samtools sort oh43.bam -@ 8 -O bam -o oh43.sort.bam\n",
    "sambamba markdup --remove-duplicates oh43.sort.bam oh43.sort.rmdup.bam ##去除pcr重复\n",
    "samtools view -@ 8 -q 30 -O bam -o oh43.sort.rmdup.q30.bam oh43.sort.rmdup.bam  ##mapping quality按30过滤\n",
    "samtools index -@ 8 oh43.sort.rmdup.q30.bam\n",
    "alignmentSieve --numberOfProcessors 8 --ATACshift -b oh43.sort.rmdup.q30.bam -o oh43.sort.rmdup.q30.shift.bam ##移码\n",
    "bedtools bamtobed -i oh43.sort.rmdup.q30.shift.bam > oh43.sort.rmdup.q30.shift.bed\n",
    "samtools sort oh43.sort.rmdup.q30.shift.bam -@ 8 -O bam -o oh43.sort.rmdup.q30.shift.sort.bam\n",
    "samtools index -@ 8 oh43.sort.rmdup.q30.shift.sort.bam\n",
    "bamCoverage -o oh43.sort.rmdup.q30.shift.sort.bw -b oh43.sort.rmdup.q30.shift.sort.bam -p 8 --normalizeUsing RPGC --effectiveGenomeSize 2100000000 --binSize 10\n",
    "macs2 callpeak --format BED --gsize 2.1e+9 --keep-dup all --qvalue 0.05 --extsize 200 --shift -100 --nomodel -t oh43.sort.rmdup.q30.shift.bed -n oh43 --outdir ./\n",
    "\n"
   ]
  },
  {
   "cell_type": "code",
   "execution_count": null,
   "metadata": {
    "vscode": {
     "languageId": "shellscript"
    }
   },
   "outputs": [],
   "source": [
    "#########-----------------fastp.sh-------#############\n",
    "#!/bin/bash\n",
    "#SBATCH -p v6_384\n",
    "#SBATCH -N 1\n",
    "#SBATCH -c 10\n",
    "#SBATCH -o /public1/home/sc80041/yjiang22/nam/new_pipe_to_rm_FP/fastp.log\n",
    "source activate jy_atac\n",
    "sample_name=$1\n",
    "cd /public1/home/sc80041/yjiang22/nam/new_pipe_to_rm_FP/$1\n",
    "fastp -i $1_1.fq.gz -I $1_2.fq.gz -o $1_1.fastp.fq.gz -O $1_2.fastp.fq.gz --detect_adapter_for_pe --correction --length_required 35 && echo '--$1 fastp done--'\n",
    "##uasge example sbatch ./fastp.sh tzi8\n",
    "\n",
    "\n",
    "#########-----------------peakcalling.sh-------#############\n",
    "#!/bin/bash\n",
    "#SBATCH -p v6_384\n",
    "#SBATCH -N 1\n",
    "#SBATCH -c 96\n",
    "#SBATCH -o /public1/home/sc80041/yjiang22/nam/new_pipe_to_rm_FP/peakcalling.log\n",
    "sample_name=$1\n",
    "source activate jy_atac\n",
    "cd /public1/home/sc80041/yjiang22/nam/new_pipe_to_rm_FP/$1\n",
    "bowtie2 -p 95 --local --very-sensitive-local --seed 1 -q --no-mixed --no-discordant --maxins 1000 \\\n",
    "    -x /public1/home/sc80041/yjiang22/software/ATAC-pipe-master/Data/Ref/$1/$1 \\\n",
    "    -1 $1_1.fastp.fq.gz -2 $1_2.fastp.fq.gz > $1.sam\n",
    "\n",
    "samtools view -@ 80 -b -h -S $1.sam > $1.bam\n",
    "rm $1.sam\n",
    "samtools sort -@ 80 $1.bam -O bam -o $1.sort.bam\n",
    "sambamba markdup --remove-duplicates $1.sort.bam $1.sort.rmdup.bam ##去除pcr重复\n",
    "samtools view -@ 80 -q 30 -O bam -o $1.sort.rmdup.q30.bam $1.sort.rmdup.bam  ##mapping quality按30过滤\n",
    "samtools index -@ 80 $1.sort.rmdup.q30.bam\n",
    "alignmentSieve --numberOfProcessors 80 --ATACshift -b $1.sort.rmdup.q30.bam -o $1.sort.rmdup.q30.shift.bam ##移码\n",
    "bedtools bamtobed -i $1.sort.rmdup.q30.shift.bam > $1.sort.rmdup.q30.shift.bed\n",
    "samtools sort $1.sort.rmdup.q30.shift.bam -@ 80 -O bam -o $1.sort.rmdup.q30.shift.sort.bam\n",
    "samtools index -@ 80 $1.sort.rmdup.q30.shift.sort.bam\n",
    "bamCoverage -o $1.sort.rmdup.q30.shift.sort.bw -b $1.sort.rmdup.q30.shift.sort.bam -p 40 --normalizeUsing RPGC --effectiveGenomeSize 2100000000 --binSize 10\n",
    "macs2 callpeak --format BED --gsize 2.1e+9 --keep-dup all --qvalue 0.05 --extsize 200 --shift -100 --nomodel -t $1.sort.rmdup.q30.shift.bed -n $1 --outdir ./\n",
    "\n",
    "\n",
    "##usage example sbatch ./peakcalling.sh tzi8"
   ]
  },
  {
   "cell_type": "markdown",
   "metadata": {},
   "source": [
    "### 对ocr与基因的关系进行注释，"
   ]
  },
  {
   "cell_type": "code",
   "execution_count": null,
   "metadata": {
    "vscode": {
     "languageId": "shellscript"
    }
   },
   "outputs": [],
   "source": []
  },
  {
   "cell_type": "markdown",
   "metadata": {},
   "source": [
    "### filter OCRs by Tn5 integration site density"
   ]
  },
  {
   "cell_type": "code",
   "execution_count": null,
   "metadata": {
    "vscode": {
     "languageId": "shellscript"
    }
   },
   "outputs": [],
   "source": [
    "##提取reads的Tn5 site\n",
    "awk 'BEGIN {OFS = \"\\t\"} ; {if ($6 == \"+\") print $1,$2,$2+1;else print $1,$3-1,$3}' b73.sort.rmdup.q30.shift.bed > b73.sort.rmdup.q30.shift.Tn5.bed\n",
    "##计算每个ocr的tn5 site densify（tn5 count/ ocr length)\n",
    "bedtools coverage -a b73_peaks.q005.narrowPeak -b b73.sort.rmdup.q30.shift.Tn5.bed | awk '{print $1,$2,$3,$4,$11}' > input_b73_peaks_and_tn5count.bed\n",
    "##bedtools shuffle specifically excluding ACRs from the randomized selection space\n",
    "bedtools shuffle -i b73_peaks.q005.narrowPeak -g ./Zm-B73-REFERENCE-NAM-5.0.fa.wo_scaf.fai |awk '{print $1,$2,$3}' | tr ' ' '\\t' > shuffle_randomized.bed ##fai先把scaff去掉\n",
    "##计算randomized区域的tn5 density\n",
    "bedtools coverage -a shuffle_randomized.bed -b b73.sort.rmdup.q30.shift.Tn5.bed | awk '{print $1,$2,$3,$4}' > input_randomized_and_tn5count.bed #四列 chr start end tn5count\n",
    "\n",
    "Rscript ./filter_eFDR.R input_b73_peaks_and_tn5count.bed input_randomized_and_tn5count.bed 0.01 b73_peaks_filted_by_tn5density.fdr001.bed\n",
    "\n",
    "\n",
    "#########-----------------filter_ocr_by_tn5_density.sh-------#############\n",
    "#!/bin/bash\n",
    "sample_name=$1\n",
    "PATH_to_sort.rmdup.shift.bed=$2\n",
    "PATH_to_initial_narrowpeak=$3\n",
    "PATH_to_genome_fai=$4\n",
    "fdr=$5\n",
    "##提取reads的Tn5 site\n",
    "awk 'BEGIN {OFS = \"\\t\"} ; {if ($6 == \"+\") print $1,$2,$2+1;else print $1,$3-1,$3}' $2 > $2.Tn5\n",
    "##计算每个ocr的tn5 site densify（tn5 count/ ocr length)\n",
    "bedtools coverage -a $3 -b $2.Tn5 | awk '{print $1,$2,$3,$4,$11}' > input_$1_peaks_and_tn5count.bed\n",
    "##bedtools shuffle specifically excluding ACRs from the randomized selection space\n",
    "grep -v 'scaf' $4 > $4.woscaf\n",
    "bedtools shuffle -i $3 -g $4.woscaf |awk '{print $1,$2,$3}' | tr ' ' '\\t' > $1.shuffle_randomized.bed ##fai先把scaff去掉\n",
    "##计算randomized区域的tn5 density\n",
    "bedtools coverage -a $1.shuffle_randomized.bed -b $2.Tn5 | awk '{print $1,$2,$3,$4}' > input_$1_randomized_and_tn5count.bed #四列 chr start end tn5count\n",
    "\n",
    "Rscript ./filter_eFDR.R input_$1_peaks_and_tn5count.bed input_$1_randomized_and_tn5count.bed $5 $1_peaks_filted_by_tn5density.fdr$5.bed\n",
    "##usage example: ./filter_ocr_by_tn5_density.sh b73 ./b73.sort.rmdup.q30.shift.bed ./b73_peaks.q005.narrowPeak ./Zm-B73-REFERENCE-NAM-5.0.fa.fai 0.01\n",
    "##会有个报错，但是不影响使用\n",
    "\n",
    "\n",
    "#########-----------------filter_ocr_by_tn5_density_fit_zkd.sh-------#############\n",
    "#!/bin/bash\n",
    "sample_name=$1\n",
    "PATH_to_sort.rmdup.shift.bed=$2\n",
    "PATH_to_initial_narrowpeak=$3\n",
    "PATH_to_genome_fai=$4\n",
    "fdr=$5\n",
    "##提取reads的Tn5 site\n",
    "awk 'BEGIN {OFS = \"\\t\"} ; {print $1,($2+$3)/2,($2+$3)/2+1}' $2 > $2.Tn5\n",
    "##计算每个ocr的tn5 site densify（tn5 count/ ocr length)\n",
    "bedtools coverage -a $3 -b $2.Tn5 | awk '{print $1,$2,$3,$4,$11}' > input_$1_peaks_and_tn5count.bed\n",
    "##bedtools shuffle specifically excluding ACRs from the randomized selection space\n",
    "bedtools shuffle -i $3 -g $4 | awk '{print $1,$2,$3}' | tr ' ' '\\t' > $1.shuffle_randomized.bed ##fai先把scaff去掉\n",
    "##计算randomized区域的tn5 density\n",
    "bedtools coverage -a $1.shuffle_randomized.bed -b $2.Tn5 | awk '{print $1,$2,$3,$4}' > input_$1_randomized_and_tn5count.bed #四列 chr start end tn5count\n",
    "\n",
    "Rscript ./filter_eFDR.R input_$1_peaks_and_tn5count.bed input_$1_randomized_and_tn5count.bed $5 $1_peaks_filted_by_tn5density.fdr$5.bed\n",
    "##usage example: ./filter_ocr_by_tn5_density_zkd.sh b73 ./b73.pe.q10.sort.rmdup.shift.bed ./b73_peaks.narrowPeak ./Zm-B73-REFERENCE-NAM-5.0.fa.fai.woscaf 0.01\n",
    "##会有个报错no such file or directory，但是不影响使用\n"
   ]
  },
  {
   "cell_type": "code",
   "execution_count": null,
   "metadata": {
    "vscode": {
     "languageId": "shellscript"
    }
   },
   "outputs": [],
   "source": [
    "##tn5 过滤后的peak文件最后一列是tn5 site number, 回帖到原narrowpeak文件，提取其他列信息\n",
    "awk 'NR==FNR{a[$4]=$0;next}NR>FNR{if($4 in a)print a[$1],a[$2],a[$3],a[$4],$6,$7,$8,$9,$10}' b97_peaks.narrowPeak b97_peaks_filted_by_tn5density.fdr0.01.bed | awk -F ' ' '{print $1,$2,$3,$4,$5,$6,$7,$8,$9,$10}' | tr ' ' '\\t' > b97_peaks_final.bed\n",
    "\n",
    "\n"
   ]
  }
 ],
 "metadata": {
  "kernelspec": {
   "display_name": "Python 3.8.13 ('scit')",
   "language": "python",
   "name": "python3"
  },
  "language_info": {
   "codemirror_mode": {
    "name": "ipython",
    "version": 3
   },
   "file_extension": ".py",
   "mimetype": "text/x-python",
   "name": "python",
   "nbconvert_exporter": "python",
   "pygments_lexer": "ipython3",
   "version": "3.8.13"
  },
  "orig_nbformat": 4,
  "vscode": {
   "interpreter": {
    "hash": "cfa6f9227bb344061a6f7df9c7ff1d6ea71f48a9bee24c9621926956265f066f"
   }
  }
 },
 "nbformat": 4,
 "nbformat_minor": 2
}
